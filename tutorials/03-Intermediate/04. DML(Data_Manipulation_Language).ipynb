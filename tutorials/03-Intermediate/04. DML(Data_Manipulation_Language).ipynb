{
 "cells": [
  {
   "cell_type": "markdown",
   "metadata": {},
   "source": [
    "# 04. DML(Data Manipulation Language)"
   ]
  },
  {
   "cell_type": "markdown",
   "metadata": {},
   "source": [
    "### DML 종류\n",
    "- DML이란 Data Manipulation Language의 약자로 아래와 같은 4가지 종류를 가지고 있습니다. 자세한 정의가 궁금하시면 [Wiki](https://ko.wikipedia.org/wiki/%EB%8D%B0%EC%9D%B4%ED%84%B0_%EC%A1%B0%EC%9E%91_%EC%96%B8%EC%96%B4)를 참고해주세요!\n",
    "- SELECT - 검색 (질의)\n",
    "- INSERT - 삽입 (등록)\n",
    "- UPDATE - 업데이트 (수정)\n",
    "- DELETE - 삭제\n",
    "\n",
    "\n",
    "- BigQuery의 LegacySQL, StandardSQL 중 **StandardSQL**에서 DML(SELECT는 모두 지원하니 INSERT, UPDATE, DELETE)을 지원합니다. \n",
    "- [BigQuery Standard SQL DML 공식 문서](https://cloud.google.com/bigquery/docs/reference/standard-sql/data-manipulation-language)"
   ]
  },
  {
   "cell_type": "markdown",
   "metadata": {},
   "source": [
    "## 할당량\n",
    "\n",
    "- 테이블 당 하루 최대 UPDATE / DELETE 문 : 96\n",
    "- 프로젝트 당 하루 최대 UPDATE / DELETE 문 : 1,000\n",
    "- 테이블 당 하루 최대 INSERT 문수 : 1,000\n",
    "- 프로젝트 당 하루 최대 INSERT 문수 : 1,000\n",
    "- 참고로, DML 문은 기존의 SELECT 문의 과금 정책이랑 약간 다른 요금 정책을 가지고 있습니다\n",
    "\n",
    "## 가격\n",
    "- 쿼리에 의해 처리된 바이트 수를 기반으로 요금을 부과합니다. 바이트 수 계산은 아래와 같이 진행합니다"
   ]
  },
  {
   "cell_type": "code",
   "execution_count": null,
   "metadata": {
    "collapsed": true
   },
   "outputs": [],
   "source": [
    "https://cloud.google.com/bigquery/docs/reference/standard-sql/data-manipulation-language\n",
    "    \n",
    "insert\n",
    "\n",
    "처리 된 바이트 수 = 쿼리로 스캔 된 테이블에서 참조되는 모든 필드에 대해 처리 된 바이트의 합계입니다.\n",
    "\n",
    "update\n",
    "처리 된 바이트 수 = 스캔 된 테이블의 참조 된 필드의 바이트 합계 + UPDATE가 시작될 때 업데이트 된 테이블의 모든 필드에 대한 바이트 합계.\n",
    "\n",
    "예제 1 :\n",
    "\n",
    "Table1에는 integer 유형의 col1과 string 유형의 col2라는 두 개의 필드가 있습니다.\n",
    "\n",
    "UPDATE table1 SET col1 = 1 WHERE col1 = 2;\n",
    "예제 1에서 처리 된 바이트 :\n",
    "col1의 바이트 수와 col2의 바이트 수의 합.\n",
    "\n",
    "예 2 :\n",
    "\n",
    "Table1에는 integer 유형의 col1과 string 유형의 col2라는 두 개의 필드가 있습니다. table2는 하나의 필드, integer 유형의 field1을가집니다.\n",
    "\n",
    "UPDATE table1 SET col1 = 1 WHERE col1 in (SELECT field1 from table2)\n",
    "예제 2에서 처리 된 바이트 수 :\n",
    "UPDATE + 전에 table1.col1의 바이트 수 합계\n",
    "UPDATE + 전에 table1.col2의 바이트 수 합계\n",
    "table2.field1의 바이트 수의 합\n",
    "\n",
    "DELETE \n",
    "처리 된 바이트 = 스캔 된 테이블의 참조 된 필드의 바이트 합계 + DELETE가 시작될 때 수정 된 테이블의 모든 필드에 대한 바이트 합계."
   ]
  }
 ],
 "metadata": {
  "kernelspec": {
   "display_name": "Python 3",
   "language": "python",
   "name": "python3"
  },
  "language_info": {
   "codemirror_mode": {
    "name": "ipython",
    "version": 3
   },
   "file_extension": ".py",
   "mimetype": "text/x-python",
   "name": "python",
   "nbconvert_exporter": "python",
   "pygments_lexer": "ipython3",
   "version": "3.6.1"
  },
  "latex_envs": {
   "LaTeX_envs_menu_present": true,
   "autocomplete": true,
   "bibliofile": "biblio.bib",
   "cite_by": "apalike",
   "current_citInitial": 1,
   "eqLabelWithNumbers": true,
   "eqNumInitial": 1,
   "hotkeys": {
    "equation": "Ctrl-E",
    "itemize": "Ctrl-I"
   },
   "labels_anchors": false,
   "latex_user_defs": false,
   "report_style_numbering": false,
   "user_envs_cfg": false
  },
  "varInspector": {
   "cols": {
    "lenName": 16,
    "lenType": 16,
    "lenVar": 40
   },
   "kernels_config": {
    "python": {
     "delete_cmd_postfix": "",
     "delete_cmd_prefix": "del ",
     "library": "var_list.py",
     "varRefreshCmd": "print(var_dic_list())"
    },
    "r": {
     "delete_cmd_postfix": ") ",
     "delete_cmd_prefix": "rm(",
     "library": "var_list.r",
     "varRefreshCmd": "cat(var_dic_list()) "
    }
   },
   "types_to_exclude": [
    "module",
    "function",
    "builtin_function_or_method",
    "instance",
    "_Feature"
   ],
   "window_display": false
  }
 },
 "nbformat": 4,
 "nbformat_minor": 2
}
