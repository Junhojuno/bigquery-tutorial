{
 "cells": [
  {
   "cell_type": "markdown",
   "metadata": {},
   "source": [
    "# 03. UDF(User Defince Function)\n",
    "- BigQuery의 UDF 함수는 사용자가 정의한 기능을 구현할 수 있는 함수로, 자바스크립트를 기반으로 만들어집니다. \n",
    "- 복잡한 조건식 혹은 문자열 파싱 등과 같은 기능은 순수 SQL로만 구현하기 어렵기 때문에 UDF로 구현하곤 합니다\n",
    "- Map 함수를 구현할 떄 사용합니다\n",
    "- input 스키마를 기반으로 다른 output 스키마를 return할 수 있습니다\n"
   ]
  },
  {
   "cell_type": "markdown",
   "metadata": {
    "collapsed": true
   },
   "source": [
    "<img src=\"../images/013_udf_01.png\" width=\"900\" height=\"700\">"
   ]
  },
  {
   "cell_type": "markdown",
   "metadata": {},
   "source": [
    "- UDF Editor를 누르면 UDF를 정의할 수 있습니다 ( 참고로 legacySQL일 경우 UDF Editor 버튼이 활성화 됩니다 )\n",
    "- [StandardSQL UDF](https://cloud.google.com/bigquery/docs/reference/standard-sql/user-defined-functions)는 해당 문서에서 확인할 수 있습니다\n",
    "- 때마침 BigQuery에서 제공하는 UDF의 구조입니다\n",
    "\n",
    "~~~\n",
    "// Example user-defined function, documentation: https://goo.gl/6KR8O0\n",
    "// Sample SQL: SELECT outputA, outputB FROM (passthrough(SELECT \"abc\" AS inputA, \"def\" AS inputB))\n",
    "\n",
    "/*\n",
    "function passthroughExample(row, emit) {\n",
    "  emit({outputA: row.inputA, outputB: row.inputB});\n",
    "}\n",
    "\n",
    "bigquery.defineFunction(\n",
    "  'passthrough',                           // UDF의 이름\n",
    "  ['inputA', 'inputB'],                    // input columns의 이름입니다\n",
    "  [{'name': 'outputA', 'type': 'string'},  // Output schema를 설정해주세요\n",
    "   {'name': 'outputB', 'type': 'string'}],\n",
    "  passthroughExample                       // Reference to JavaScript UDF\n",
    ");\n",
    "*/\n",
    "~~~"
   ]
  },
  {
   "cell_type": "markdown",
   "metadata": {},
   "source": [
    "## UDF 설명\n",
    "- UDF는 총 3 part로 나뉩니다\n",
    "- UDF definition : row와 emit 객체를 받아 행의 일부에서 함수를 실행하는 부분입니다\n",
    "- Helper Function : emitter function에서 호출할 수 있는 작업 함수를 정의합니다. Error handling도 함께 해줍니다\n",
    "- Registrtion Function : emmiter function과 input/output 스키마를 연결합니다"
   ]
  },
  {
   "cell_type": "markdown",
   "metadata": {},
   "source": [
    "### UDF Structure\n",
    "~~~\n",
    "// UDF definition\n",
    "function function_name(row, emit) {\n",
    "  emit(output data);\n",
    "}\n",
    "\n",
    "// Helper function with error handling\n",
    "function helpter_function_name(s) {\n",
    "  try {\n",
    "    return decodeURI(s);\n",
    "  } catch (ex) {\n",
    "    return s;\n",
    "  }\n",
    "}\n",
    "\n",
    "// UDF registration\n",
    "bigquery.defineFunction(\n",
    "  'function_name',  \n",
    "  ['input column'], \n",
    "\n",
    "  // JSON representation of the output schema\n",
    "  [{output_key: 'output_value'}],\n",
    "\n",
    "  function_name  \n",
    ");\n",
    "~~~"
   ]
  },
  {
   "cell_type": "markdown",
   "metadata": {},
   "source": [
    "### urlDecode UDF function\n",
    "- urlDecode하는 UDF 함수는 아래와 같습니다\n",
    "\n",
    "~~~\n",
    "// UDF definition\n",
    "function urlDecode(row, emit) {\n",
    "  emit({title: decodeHelper(row.title),\n",
    "        requests: row.num_requests});\n",
    "}\n",
    "\n",
    "// Helper function with error handling\n",
    "function decodeHelper(s) {\n",
    "  try {\n",
    "    return decodeURI(s);\n",
    "  } catch (ex) {\n",
    "    return s;\n",
    "  }\n",
    "}\n",
    "\n",
    "// UDF registration\n",
    "bigquery.defineFunction(\n",
    "  'urlDecode',  // Name used to call the function from SQL\n",
    "\n",
    "  ['title', 'num_requests'],  // Input column names\n",
    "\n",
    "  // JSON representation of the output schema\n",
    "  [{name: 'title', type: 'string'},\n",
    "   {name: 'requests', type: 'integer'}],\n",
    "\n",
    "  urlDecode  // The function reference\n",
    ");\n",
    "\n",
    "~~~"
   ]
  },
  {
   "cell_type": "markdown",
   "metadata": {},
   "source": [
    "<img src=\"../images/013_udf_02.png\" width=\"700\" height=\"700\">"
   ]
  },
  {
   "cell_type": "markdown",
   "metadata": {},
   "source": [
    "- UDF Editor에 위 코드를 넣고 Query Editor로 넘어오고 아래와 같은 쿼리를 작성했습니다\n",
    "~~~\n",
    "SELECT requests, title\n",
    "FROM\n",
    "  urlDecode(\n",
    "    SELECT\n",
    "      title, sum(requests) AS num_requests\n",
    "    FROM\n",
    "      [fh-bigquery:wikipedia.pagecounts_201504]\n",
    "    WHERE language = 'fr'\n",
    "    GROUP EACH BY title\n",
    "  )\n",
    "WHERE title LIKE '%ç%'\n",
    "ORDER BY requests DESC\n",
    "LIMIT 100\n",
    "~~~\n",
    "\n",
    "- Inline UDF라고 표시되며, 데이터의 양은 300GB인데 쿼리 비용은 약 1.5달러입니다..! (BQ Mate라는 크롬 확장 프로그램을 설치하면 예상 가격이 나옵니다)\n",
    "- UDF 함수는 비용이 좀 나가는 편입니다\n",
    "- 따라서 충분한 테스트 후에 실제 데이터에 돌리는 것을 추천드리고 싶습니다. UDF 함수를 [테스트](http://storage.googleapis.com/bigquery-udf-test-tool/testtool.html)할 수 있는 곳을 통해 실험해본 후, 적용하시는 것을 추천드립니다\n",
    "- 저는 그냥 data를 python으로 가지고 와서 전처리하는 편입니다"
   ]
  },
  {
   "cell_type": "markdown",
   "metadata": {},
   "source": [
    "### UDF Editor에 정의하지 않고 사용하는 방법\n",
    "\n",
    "~~~\n",
    "SELECT outputA\n",
    "FROM JS(\n",
    "// input table\n",
    "(\n",
    "  SELECT text2 as inputA \n",
    "  FROM \n",
    "    (SELECT 'mikhail' AS text2),\n",
    "    (SELECT 'mike' AS text2),\n",
    "    (SELECT 'michael' AS text2),\n",
    "    (SELECT 'javier' AS text2),\n",
    "    (SELECT 'thomas' AS text2)\n",
    ")\n",
    "\n",
    "// input columns\n",
    ", inputA\n",
    "\n",
    "// output schema\n",
    ", \"[{name: 'outputA', type:'string'}]\"\n",
    "\n",
    "// function\n",
    ", \"function(r, emit) {\n",
    "\n",
    "    emit({\n",
    "      outputA: 'XX ' + r.inputA + ' XX'\n",
    "    });\n",
    "\n",
    "  }\"\n",
    ")\n",
    "~~~\n",
    "\n",
    "- output\n",
    "\n",
    "~~~\n",
    "outputA\n",
    "XX mikhail XX\n",
    "XX mike XX\n",
    "XX michael XX\n",
    "XX javier XX\n",
    "XX thomas XX\n",
    "\n",
    "~~~"
   ]
  },
  {
   "cell_type": "markdown",
   "metadata": {},
   "source": [
    "# Reference\n",
    "- [Stack Overflow](https://stackoverflow.com/questions/36207063/where-is-the-bigquery-documentation-describing-how-to-define-a-javascript-udf-fu)\n",
    "- [Google Cloud Document](https://cloud.google.com/bigquery/user-defined-functions)"
   ]
  }
 ],
 "metadata": {
  "kernelspec": {
   "display_name": "Python 3",
   "language": "python",
   "name": "python3"
  },
  "language_info": {
   "codemirror_mode": {
    "name": "ipython",
    "version": 3
   },
   "file_extension": ".py",
   "mimetype": "text/x-python",
   "name": "python",
   "nbconvert_exporter": "python",
   "pygments_lexer": "ipython3",
   "version": "3.6.1"
  },
  "latex_envs": {
   "LaTeX_envs_menu_present": true,
   "autocomplete": true,
   "bibliofile": "biblio.bib",
   "cite_by": "apalike",
   "current_citInitial": 1,
   "eqLabelWithNumbers": true,
   "eqNumInitial": 1,
   "hotkeys": {
    "equation": "Ctrl-E",
    "itemize": "Ctrl-I"
   },
   "labels_anchors": false,
   "latex_user_defs": false,
   "report_style_numbering": false,
   "user_envs_cfg": false
  },
  "varInspector": {
   "cols": {
    "lenName": 16,
    "lenType": 16,
    "lenVar": 40
   },
   "kernels_config": {
    "python": {
     "delete_cmd_postfix": "",
     "delete_cmd_prefix": "del ",
     "library": "var_list.py",
     "varRefreshCmd": "print(var_dic_list())"
    },
    "r": {
     "delete_cmd_postfix": ") ",
     "delete_cmd_prefix": "rm(",
     "library": "var_list.r",
     "varRefreshCmd": "cat(var_dic_list()) "
    }
   },
   "types_to_exclude": [
    "module",
    "function",
    "builtin_function_or_method",
    "instance",
    "_Feature"
   ],
   "window_display": false
  }
 },
 "nbformat": 4,
 "nbformat_minor": 2
}
