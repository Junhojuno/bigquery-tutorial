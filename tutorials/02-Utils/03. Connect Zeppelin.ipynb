{
 "cells": [
  {
   "cell_type": "markdown",
   "metadata": {},
   "source": [
    "# 03. Connect Zeppelin\n",
    "- [Apache Zeppelin](https://zeppelin.apache.org/)은 Spark, SQL, Python, Scala, R, Hive 등 정말 다양한 언어들을 제공해주고 있는 도구로, Notebook 형태를 띄고 있습니다\n",
    "- 쿼리의 결과를 빠르게 시각화할 수 있는 장점을 가지고 있습니다\n",
    "- [Dynamic Form](https://zeppelin.apache.org/docs/latest/manual/dynamicform.html)을 구성할 수 있습니다\n",
    "- Zeppelin도 python의 경우와 마찬가지로 GOOGLE_APPLICATION_CREDENTIALS 설정이 필요합니다! ( 설정만 하면 끝-! )\n",
    "- [Zeppelin Install Document](http://zeppelin.apache.org/docs/0.7.3/install/install.html)를 통해 제플린을 설치해주세요! (본 문서에서 설치에 대해선 다루지 않겠습니다)\n",
    "~~~\n",
    "설치 후, \n",
    "cd zeppelin_folder\n",
    "bin/zeppelin-daemon.sh start\n",
    "http://localhost:8080/\n",
    "~~~"
   ]
  },
  {
   "cell_type": "markdown",
   "metadata": {
    "ExecuteTime": {
     "end_time": "2017-10-02T13:35:14.563236Z",
     "start_time": "2017-10-02T13:35:14.559522Z"
    }
   },
   "source": [
    "<img src=\"../images/008_connect_zeppelin_01.png\" width=\"700\" height=\"700\">\n",
    "- Apache Zeppelin의 메인 화면"
   ]
  },
  {
   "cell_type": "markdown",
   "metadata": {},
   "source": [
    "<img src=\"../images/008_connect_zeppelin_02.png\" width=\"700\" height=\"700\">\n",
    "- anonymous라고 되어있는 곳을 클릭한 후, Interpreter를 클릭해주세요!\n"
   ]
  },
  {
   "cell_type": "markdown",
   "metadata": {},
   "source": [
    "<img src=\"../images/008_connect_zeppelin_03.png\" width=\"700\" height=\"700\">\n"
   ]
  },
  {
   "cell_type": "markdown",
   "metadata": {},
   "source": [
    "- 매직 커맨드는 %bigquery\n",
    "- 해당 화면에서 최대 rows 수, project_id, wait_time을 설정할 수 있습니다"
   ]
  },
  {
   "cell_type": "markdown",
   "metadata": {},
   "source": [
    "<img src=\"../images/008_connect_zeppelin_04.png\" width=\"700\" height=\"700\">\n"
   ]
  },
  {
   "cell_type": "markdown",
   "metadata": {},
   "source": [
    "- %bigquery 매직커맨드만 설정해주면 그냥 바로 쿼리문을 작성하면 결과가 뿅!하고 나옵니다\n",
    "- 네모로 친 부분에서 데이터를 바로 시각화할 수 있습니다"
   ]
  },
  {
   "cell_type": "markdown",
   "metadata": {},
   "source": [
    "## 막대 그래프\n",
    "<img src=\"../images/008_connect_zeppelin_05.png\" width=\"700\" height=\"700\">\n"
   ]
  },
  {
   "cell_type": "markdown",
   "metadata": {},
   "source": [
    "# 파이 그래프\n",
    "<img src=\"../images/008_connect_zeppelin_06.png\" width=\"700\" height=\"700\">\n"
   ]
  },
  {
   "cell_type": "markdown",
   "metadata": {},
   "source": [
    "# 그래프\n",
    "<img src=\"../images/008_connect_zeppelin_07.png\" width=\"700\" height=\"700\">\n"
   ]
  },
  {
   "cell_type": "markdown",
   "metadata": {},
   "source": [
    "- 제플린의 경우 바로 시각화를 보여주기 때문에 대시보드로 사용하기도 좋고, 데이터 탐색에도 용이합니다!"
   ]
  }
 ],
 "metadata": {
  "kernelspec": {
   "display_name": "Python 3",
   "language": "python",
   "name": "python3"
  },
  "language_info": {
   "codemirror_mode": {
    "name": "ipython",
    "version": 3
   },
   "file_extension": ".py",
   "mimetype": "text/x-python",
   "name": "python",
   "nbconvert_exporter": "python",
   "pygments_lexer": "ipython3",
   "version": "3.6.1"
  },
  "latex_envs": {
   "LaTeX_envs_menu_present": true,
   "autocomplete": true,
   "bibliofile": "biblio.bib",
   "cite_by": "apalike",
   "current_citInitial": 1,
   "eqLabelWithNumbers": true,
   "eqNumInitial": 1,
   "hotkeys": {
    "equation": "Ctrl-E",
    "itemize": "Ctrl-I"
   },
   "labels_anchors": false,
   "latex_user_defs": false,
   "report_style_numbering": false,
   "user_envs_cfg": false
  },
  "varInspector": {
   "cols": {
    "lenName": 16,
    "lenType": 16,
    "lenVar": 40
   },
   "kernels_config": {
    "python": {
     "delete_cmd_postfix": "",
     "delete_cmd_prefix": "del ",
     "library": "var_list.py",
     "varRefreshCmd": "print(var_dic_list())"
    },
    "r": {
     "delete_cmd_postfix": ") ",
     "delete_cmd_prefix": "rm(",
     "library": "var_list.r",
     "varRefreshCmd": "cat(var_dic_list()) "
    }
   },
   "types_to_exclude": [
    "module",
    "function",
    "builtin_function_or_method",
    "instance",
    "_Feature"
   ],
   "window_display": false
  }
 },
 "nbformat": 4,
 "nbformat_minor": 2
}
