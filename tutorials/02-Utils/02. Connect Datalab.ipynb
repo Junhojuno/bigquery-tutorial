{
 "cells": [
  {
   "cell_type": "markdown",
   "metadata": {},
   "source": [
    "# 02. Connect datalab\n",
    "- datalab은 Google Cloud에서 서비스하는 Jupyter notebook이라고 보면 됩니다\n",
    "- 최근 20170818 버전부터 python2, python3 커널을 사용할 수 있습니다 (기존에는 python2만 해당)\n",
    "- datalab은 Google Cloud Storage / BigQuery 등에서 IO 속도가 매우 빠릅니다\n",
    "- [datalab install](https://cloud.google.com/datalab/docs/quickstarts)\n",
    "- datalab connect [datalab instance 명]"
   ]
  },
  {
   "cell_type": "markdown",
   "metadata": {},
   "source": [
    "<img src=\"../images/007_connect_datalab.png\" width=\"700\" height=\"700\">\n",
    "- Google Datalab의 모습"
   ]
  },
  {
   "cell_type": "code",
   "execution_count": 2,
   "metadata": {
    "collapsed": true
   },
   "outputs": [],
   "source": [
    "import google.datalab.bigquery as bq"
   ]
  },
  {
   "cell_type": "code",
   "execution_count": 3,
   "metadata": {
    "collapsed": true
   },
   "outputs": [],
   "source": [
    "# Query 생성\n",
    "query_string = '''\n",
    "              #standardSQL\n",
    "              SELECT corpus AS title, COUNT(*) AS unique_words\n",
    "              FROM `publicdata.samples.shakespeare`\n",
    "              GROUP BY title\n",
    "              ORDER BY unique_words DESC\n",
    "              LIMIT 10\n",
    "              '''"
   ]
  },
  {
   "cell_type": "code",
   "execution_count": 4,
   "metadata": {
    "collapsed": true
   },
   "outputs": [],
   "source": [
    "query = bq.Query(query_string)"
   ]
  },
  {
   "cell_type": "code",
   "execution_count": 5,
   "metadata": {},
   "outputs": [
    {
     "data": {
      "text/html": [
       "\n",
       "    <div class=\"bqtv\" id=\"1_150687847443\"><table><tr><th>title</th><th>unique_words</th></tr><tr><td>hamlet</td><td>5318</td></tr><tr><td>kinghenryv</td><td>5104</td></tr><tr><td>cymbeline</td><td>4875</td></tr><tr><td>troilusandcressida</td><td>4795</td></tr><tr><td>kinglear</td><td>4784</td></tr><tr><td>kingrichardiii</td><td>4713</td></tr><tr><td>2kinghenryvi</td><td>4683</td></tr><tr><td>coriolanus</td><td>4653</td></tr><tr><td>2kinghenryiv</td><td>4605</td></tr><tr><td>antonyandcleopatra</td><td>4582</td></tr></table></div>\n",
       "    <br />(rows: 10, time: 0.9s, cached, job: job_QQ4lwiAqh3S3oj06MU_ij2BD1egU)<br />\n",
       "    <script>\n",
       "\n",
       "      require.config({\n",
       "        paths: {\n",
       "          d3: '//cdnjs.cloudflare.com/ajax/libs/d3/3.4.13/d3',\n",
       "          plotly: 'https://cdn.plot.ly/plotly-1.5.1.min.js?noext',\n",
       "          jquery: '//ajax.googleapis.com/ajax/libs/jquery/2.0.0/jquery.min'\n",
       "        },\n",
       "        map: {\n",
       "          '*': {\n",
       "            datalab: 'nbextensions/gcpdatalab'\n",
       "          }\n",
       "        },\n",
       "        shim: {\n",
       "          plotly: {\n",
       "            deps: ['d3', 'jquery'],\n",
       "            exports: 'plotly'\n",
       "          }\n",
       "        }\n",
       "      });\n",
       "\n",
       "      require(['datalab/charting', 'datalab/element!1_150687847443', 'base/js/events',\n",
       "          'datalab/style!/nbextensions/gcpdatalab/charting.css'],\n",
       "        function(charts, dom, events) {\n",
       "          charts.render('gcharts', dom, events, 'table', [], {\"rows\": [{\"c\": [{\"v\": \"hamlet\"}, {\"v\": 5318}]}, {\"c\": [{\"v\": \"kinghenryv\"}, {\"v\": 5104}]}, {\"c\": [{\"v\": \"cymbeline\"}, {\"v\": 4875}]}, {\"c\": [{\"v\": \"troilusandcressida\"}, {\"v\": 4795}]}, {\"c\": [{\"v\": \"kinglear\"}, {\"v\": 4784}]}, {\"c\": [{\"v\": \"kingrichardiii\"}, {\"v\": 4713}]}, {\"c\": [{\"v\": \"2kinghenryvi\"}, {\"v\": 4683}]}, {\"c\": [{\"v\": \"coriolanus\"}, {\"v\": 4653}]}, {\"c\": [{\"v\": \"2kinghenryiv\"}, {\"v\": 4605}]}, {\"c\": [{\"v\": \"antonyandcleopatra\"}, {\"v\": 4582}]}], \"cols\": [{\"type\": \"string\", \"label\": \"title\", \"id\": \"title\"}, {\"type\": \"number\", \"label\": \"unique_words\", \"id\": \"unique_words\"}]},\n",
       "            {\n",
       "              pageSize: 25,\n",
       "              cssClassNames:  {\n",
       "                tableRow: 'gchart-table-row',\n",
       "                headerRow: 'gchart-table-headerrow',\n",
       "                oddTableRow: 'gchart-table-oddrow',\n",
       "                selectedTableRow: 'gchart-table-selectedrow',\n",
       "                hoverTableRow: 'gchart-table-hoverrow',\n",
       "                tableCell: 'gchart-table-cell',\n",
       "                headerCell: 'gchart-table-headercell',\n",
       "                rowNumberCell: 'gchart-table-rownumcell'\n",
       "              }\n",
       "            },\n",
       "            {source_index: 0, fields: 'title,unique_words'},\n",
       "            0,\n",
       "            10);\n",
       "        }\n",
       "      );\n",
       "    </script>\n",
       "  "
      ],
      "text/plain": [
       "QueryResultsTable job_QQ4lwiAqh3S3oj06MU_ij2BD1egU"
      ]
     },
     "execution_count": 5,
     "metadata": {},
     "output_type": "execute_result"
    }
   ],
   "source": [
    "output_options = bq.QueryOutput.table(use_cache=True)\n",
    "result = query.execute(output_options=output_options).result() # query 실행\n",
    "result"
   ]
  },
  {
   "cell_type": "markdown",
   "metadata": {},
   "source": [
    "## pandas dataframe으로 변환"
   ]
  },
  {
   "cell_type": "code",
   "execution_count": 6,
   "metadata": {
    "collapsed": true
   },
   "outputs": [],
   "source": [
    "pandas_df = result.to_dataframe()"
   ]
  },
  {
   "cell_type": "code",
   "execution_count": 7,
   "metadata": {},
   "outputs": [
    {
     "data": {
      "text/html": [
       "<div>\n",
       "<table border=\"1\" class=\"dataframe\">\n",
       "  <thead>\n",
       "    <tr style=\"text-align: right;\">\n",
       "      <th></th>\n",
       "      <th>title</th>\n",
       "      <th>unique_words</th>\n",
       "    </tr>\n",
       "  </thead>\n",
       "  <tbody>\n",
       "    <tr>\n",
       "      <th>0</th>\n",
       "      <td>hamlet</td>\n",
       "      <td>5318</td>\n",
       "    </tr>\n",
       "    <tr>\n",
       "      <th>1</th>\n",
       "      <td>kinghenryv</td>\n",
       "      <td>5104</td>\n",
       "    </tr>\n",
       "    <tr>\n",
       "      <th>2</th>\n",
       "      <td>cymbeline</td>\n",
       "      <td>4875</td>\n",
       "    </tr>\n",
       "    <tr>\n",
       "      <th>3</th>\n",
       "      <td>troilusandcressida</td>\n",
       "      <td>4795</td>\n",
       "    </tr>\n",
       "    <tr>\n",
       "      <th>4</th>\n",
       "      <td>kinglear</td>\n",
       "      <td>4784</td>\n",
       "    </tr>\n",
       "    <tr>\n",
       "      <th>5</th>\n",
       "      <td>kingrichardiii</td>\n",
       "      <td>4713</td>\n",
       "    </tr>\n",
       "    <tr>\n",
       "      <th>6</th>\n",
       "      <td>2kinghenryvi</td>\n",
       "      <td>4683</td>\n",
       "    </tr>\n",
       "    <tr>\n",
       "      <th>7</th>\n",
       "      <td>coriolanus</td>\n",
       "      <td>4653</td>\n",
       "    </tr>\n",
       "    <tr>\n",
       "      <th>8</th>\n",
       "      <td>2kinghenryiv</td>\n",
       "      <td>4605</td>\n",
       "    </tr>\n",
       "    <tr>\n",
       "      <th>9</th>\n",
       "      <td>antonyandcleopatra</td>\n",
       "      <td>4582</td>\n",
       "    </tr>\n",
       "  </tbody>\n",
       "</table>\n",
       "</div>"
      ],
      "text/plain": [
       "                title  unique_words\n",
       "0              hamlet          5318\n",
       "1          kinghenryv          5104\n",
       "2           cymbeline          4875\n",
       "3  troilusandcressida          4795\n",
       "4            kinglear          4784\n",
       "5      kingrichardiii          4713\n",
       "6        2kinghenryvi          4683\n",
       "7          coriolanus          4653\n",
       "8        2kinghenryiv          4605\n",
       "9  antonyandcleopatra          4582"
      ]
     },
     "execution_count": 7,
     "metadata": {},
     "output_type": "execute_result"
    }
   ],
   "source": [
    "pandas_df"
   ]
  },
  {
   "cell_type": "code",
   "execution_count": 8,
   "metadata": {
    "collapsed": true
   },
   "outputs": [],
   "source": [
    "sample_dataset = bq.Dataset('bigquery-public-data.samples')"
   ]
  },
  {
   "cell_type": "code",
   "execution_count": 9,
   "metadata": {},
   "outputs": [
    {
     "data": {
      "text/plain": [
       "True"
      ]
     },
     "execution_count": 9,
     "metadata": {},
     "output_type": "execute_result"
    }
   ],
   "source": [
    "# dataset이 존재하는지 유무\n",
    "sample_dataset.exists() "
   ]
  },
  {
   "cell_type": "markdown",
   "metadata": {},
   "source": [
    "### %bq magic command를 이용한 project sample 확인"
   ]
  },
  {
   "cell_type": "code",
   "execution_count": 10,
   "metadata": {},
   "outputs": [
    {
     "data": {
      "text/html": [
       "<ul><li>cloud-datalab-samples.appenginelogs</li><li>cloud-datalab-samples.carprices</li><li>cloud-datalab-samples.httplogs</li></ul>"
      ],
      "text/plain": [
       "<IPython.core.display.HTML object>"
      ]
     },
     "execution_count": 10,
     "metadata": {},
     "output_type": "execute_result"
    }
   ],
   "source": [
    "%bq datasets list --project cloud-datalab-samples"
   ]
  },
  {
   "cell_type": "markdown",
   "metadata": {},
   "source": [
    "### %%bq query를 사용해 바로 query문을 날림"
   ]
  },
  {
   "cell_type": "code",
   "execution_count": 12,
   "metadata": {},
   "outputs": [
    {
     "data": {
      "text/html": [
       "\n",
       "    <div class=\"bqtv\" id=\"3_150687860367\"><table><tr><th>title</th><th>unique_words</th></tr><tr><td>hamlet</td><td>5318</td></tr><tr><td>kinghenryv</td><td>5104</td></tr><tr><td>cymbeline</td><td>4875</td></tr><tr><td>troilusandcressida</td><td>4795</td></tr><tr><td>kinglear</td><td>4784</td></tr><tr><td>kingrichardiii</td><td>4713</td></tr><tr><td>2kinghenryvi</td><td>4683</td></tr><tr><td>coriolanus</td><td>4653</td></tr><tr><td>2kinghenryiv</td><td>4605</td></tr><tr><td>antonyandcleopatra</td><td>4582</td></tr></table></div>\n",
       "    <br />(rows: 10, time: 1.4s,     2MB processed, job: job_yKN6rIwV8lYcd2URLkKMj_Jv-TNl)<br />\n",
       "    <script>\n",
       "\n",
       "      require.config({\n",
       "        paths: {\n",
       "          d3: '//cdnjs.cloudflare.com/ajax/libs/d3/3.4.13/d3',\n",
       "          plotly: 'https://cdn.plot.ly/plotly-1.5.1.min.js?noext',\n",
       "          jquery: '//ajax.googleapis.com/ajax/libs/jquery/2.0.0/jquery.min'\n",
       "        },\n",
       "        map: {\n",
       "          '*': {\n",
       "            datalab: 'nbextensions/gcpdatalab'\n",
       "          }\n",
       "        },\n",
       "        shim: {\n",
       "          plotly: {\n",
       "            deps: ['d3', 'jquery'],\n",
       "            exports: 'plotly'\n",
       "          }\n",
       "        }\n",
       "      });\n",
       "\n",
       "      require(['datalab/charting', 'datalab/element!3_150687860367', 'base/js/events',\n",
       "          'datalab/style!/nbextensions/gcpdatalab/charting.css'],\n",
       "        function(charts, dom, events) {\n",
       "          charts.render('gcharts', dom, events, 'table', [], {\"rows\": [{\"c\": [{\"v\": \"hamlet\"}, {\"v\": 5318}]}, {\"c\": [{\"v\": \"kinghenryv\"}, {\"v\": 5104}]}, {\"c\": [{\"v\": \"cymbeline\"}, {\"v\": 4875}]}, {\"c\": [{\"v\": \"troilusandcressida\"}, {\"v\": 4795}]}, {\"c\": [{\"v\": \"kinglear\"}, {\"v\": 4784}]}, {\"c\": [{\"v\": \"kingrichardiii\"}, {\"v\": 4713}]}, {\"c\": [{\"v\": \"2kinghenryvi\"}, {\"v\": 4683}]}, {\"c\": [{\"v\": \"coriolanus\"}, {\"v\": 4653}]}, {\"c\": [{\"v\": \"2kinghenryiv\"}, {\"v\": 4605}]}, {\"c\": [{\"v\": \"antonyandcleopatra\"}, {\"v\": 4582}]}], \"cols\": [{\"type\": \"string\", \"label\": \"title\", \"id\": \"title\"}, {\"type\": \"number\", \"label\": \"unique_words\", \"id\": \"unique_words\"}]},\n",
       "            {\n",
       "              pageSize: 25,\n",
       "              cssClassNames:  {\n",
       "                tableRow: 'gchart-table-row',\n",
       "                headerRow: 'gchart-table-headerrow',\n",
       "                oddTableRow: 'gchart-table-oddrow',\n",
       "                selectedTableRow: 'gchart-table-selectedrow',\n",
       "                hoverTableRow: 'gchart-table-hoverrow',\n",
       "                tableCell: 'gchart-table-cell',\n",
       "                headerCell: 'gchart-table-headercell',\n",
       "                rowNumberCell: 'gchart-table-rownumcell'\n",
       "              }\n",
       "            },\n",
       "            {source_index: 2, fields: 'title,unique_words'},\n",
       "            0,\n",
       "            10);\n",
       "        }\n",
       "      );\n",
       "    </script>\n",
       "  "
      ],
      "text/plain": [
       "QueryResultsTable job_yKN6rIwV8lYcd2URLkKMj_Jv-TNl"
      ]
     },
     "execution_count": 12,
     "metadata": {},
     "output_type": "execute_result"
    }
   ],
   "source": [
    "%%bq query\n",
    "#standardSQL\n",
    "SELECT corpus AS title, COUNT(*) AS unique_words\n",
    "FROM `publicdata.samples.shakespeare`\n",
    "GROUP BY title\n",
    "ORDER BY unique_words DESC\n",
    "LIMIT 10"
   ]
  },
  {
   "cell_type": "markdown",
   "metadata": {},
   "source": [
    "### 매직커맨드를 활용해 pandas data frame 생성"
   ]
  },
  {
   "cell_type": "code",
   "execution_count": 17,
   "metadata": {
    "collapsed": true
   },
   "outputs": [],
   "source": [
    "%%bq query -n requests\n",
    "SELECT timestamp, latency, endpoint\n",
    "FROM `cloud-datalab-samples.httplogs.logs_20140615`\n",
    "WHERE endpoint = 'Popular' OR endpoint = 'Recent'"
   ]
  },
  {
   "cell_type": "code",
   "execution_count": 18,
   "metadata": {},
   "outputs": [
    {
     "data": {
      "text/plain": [
       "8392"
      ]
     },
     "execution_count": 18,
     "metadata": {},
     "output_type": "execute_result"
    }
   ],
   "source": [
    "df = requests.execute(output_options=bq.QueryOutput.dataframe()).result()\n",
    "len(df)"
   ]
  },
  {
   "cell_type": "code",
   "execution_count": 19,
   "metadata": {},
   "outputs": [
    {
     "data": {
      "text/html": [
       "<div>\n",
       "<table border=\"1\" class=\"dataframe\">\n",
       "  <thead>\n",
       "    <tr style=\"text-align: right;\">\n",
       "      <th></th>\n",
       "      <th>timestamp</th>\n",
       "      <th>latency</th>\n",
       "      <th>endpoint</th>\n",
       "    </tr>\n",
       "  </thead>\n",
       "  <tbody>\n",
       "    <tr>\n",
       "      <th>0</th>\n",
       "      <td>2014-06-15 14:41:43.465275</td>\n",
       "      <td>256</td>\n",
       "      <td>Recent</td>\n",
       "    </tr>\n",
       "    <tr>\n",
       "      <th>1</th>\n",
       "      <td>2014-06-15 17:25:47.865026</td>\n",
       "      <td>256</td>\n",
       "      <td>Recent</td>\n",
       "    </tr>\n",
       "    <tr>\n",
       "      <th>2</th>\n",
       "      <td>2014-06-15 19:40:43.414446</td>\n",
       "      <td>256</td>\n",
       "      <td>Recent</td>\n",
       "    </tr>\n",
       "    <tr>\n",
       "      <th>3</th>\n",
       "      <td>2014-06-16 01:38:26.398083</td>\n",
       "      <td>256</td>\n",
       "      <td>Recent</td>\n",
       "    </tr>\n",
       "    <tr>\n",
       "      <th>4</th>\n",
       "      <td>2014-06-16 03:32:55.519498</td>\n",
       "      <td>256</td>\n",
       "      <td>Recent</td>\n",
       "    </tr>\n",
       "  </tbody>\n",
       "</table>\n",
       "</div>"
      ],
      "text/plain": [
       "                   timestamp  latency endpoint\n",
       "0 2014-06-15 14:41:43.465275      256   Recent\n",
       "1 2014-06-15 17:25:47.865026      256   Recent\n",
       "2 2014-06-15 19:40:43.414446      256   Recent\n",
       "3 2014-06-16 01:38:26.398083      256   Recent\n",
       "4 2014-06-16 03:32:55.519498      256   Recent"
      ]
     },
     "execution_count": 19,
     "metadata": {},
     "output_type": "execute_result"
    }
   ],
   "source": [
    "df.head()"
   ]
  },
  {
   "cell_type": "markdown",
   "metadata": {},
   "source": [
    "### google chart api를 활용해 바로 chart 그리기 가능"
   ]
  },
  {
   "cell_type": "code",
   "execution_count": 13,
   "metadata": {
    "collapsed": true
   },
   "outputs": [],
   "source": [
    "%%bq query --name data\n",
    "WITH quantiles AS (\n",
    "  SELECT APPROX_QUANTILES(LOG10(latency), 50) AS timearray\n",
    "  FROM `cloud-datalab-samples.httplogs.logs_20140615`\n",
    "  WHERE latency <> 0\n",
    ")\n",
    "select row_number() over(order by time) as percentile, time from quantiles cross join unnest(quantiles.timearray) as time\n",
    "order by percentile"
   ]
  },
  {
   "cell_type": "code",
   "execution_count": 14,
   "metadata": {},
   "outputs": [
    {
     "data": {
      "text/html": [
       "\n",
       "    <div class=\"bqgc-container\">\n",
       "      \n",
       "      <div class=\"bqgc \" id=\"1_150687865022\">\n",
       "      </div>\n",
       "    </div>\n",
       "    <script>\n",
       "\n",
       "      require.config({\n",
       "        paths: {\n",
       "          d3: '//cdnjs.cloudflare.com/ajax/libs/d3/3.4.13/d3',\n",
       "          plotly: 'https://cdn.plot.ly/plotly-1.5.1.min.js?noext',\n",
       "          jquery: '//ajax.googleapis.com/ajax/libs/jquery/2.0.0/jquery.min'\n",
       "        },\n",
       "        map: {\n",
       "          '*': {\n",
       "            datalab: 'nbextensions/gcpdatalab'\n",
       "          }\n",
       "        },\n",
       "        shim: {\n",
       "          plotly: {\n",
       "            deps: ['d3', 'jquery'],\n",
       "            exports: 'plotly'\n",
       "          }\n",
       "        }\n",
       "      });\n",
       "\n",
       "      require(['datalab/charting',\n",
       "               'datalab/element!1_150687865022',\n",
       "               'base/js/events',\n",
       "               'datalab/style!/nbextensions/gcpdatalab/charting.css'\n",
       "              ],\n",
       "        function(charts, dom, events) {\n",
       "          charts.render(\n",
       "              'gcharts',\n",
       "              dom,\n",
       "              events,\n",
       "              'columns',\n",
       "              [],\n",
       "              {\"rows\": [{\"c\": [{\"v\": 1}, {\"v\": 0.0}]}, {\"c\": [{\"v\": 2}, {\"v\": 0.47712125471966244}]}, {\"c\": [{\"v\": 3}, {\"v\": 1.146128035678238}]}, {\"c\": [{\"v\": 4}, {\"v\": 1.3222192947339193}]}, {\"c\": [{\"v\": 5}, {\"v\": 1.3424226808222062}]}, {\"c\": [{\"v\": 6}, {\"v\": 1.3617278360175928}]}, {\"c\": [{\"v\": 7}, {\"v\": 1.414973347970818}]}, {\"c\": [{\"v\": 8}, {\"v\": 1.4471580313422192}]}, {\"c\": [{\"v\": 9}, {\"v\": 1.4471580313422192}]}, {\"c\": [{\"v\": 10}, {\"v\": 1.462397997898956}]}, {\"c\": [{\"v\": 11}, {\"v\": 1.4913616938342726}]}, {\"c\": [{\"v\": 12}, {\"v\": 1.5185139398778875}]}, {\"c\": [{\"v\": 13}, {\"v\": 1.5314789170422551}]}, {\"c\": [{\"v\": 14}, {\"v\": 1.5440680443502757}]}, {\"c\": [{\"v\": 15}, {\"v\": 1.5563025007672873}]}, {\"c\": [{\"v\": 16}, {\"v\": 1.5797835966168101}]}, {\"c\": [{\"v\": 17}, {\"v\": 1.591064607026499}]}, {\"c\": [{\"v\": 18}, {\"v\": 1.6232492903979006}]}, {\"c\": [{\"v\": 19}, {\"v\": 1.6434526764861874}]}, {\"c\": [{\"v\": 20}, {\"v\": 1.6720978579357175}]}, {\"c\": [{\"v\": 21}, {\"v\": 1.7075701760979363}]}, {\"c\": [{\"v\": 22}, {\"v\": 1.7403626894942439}]}, {\"c\": [{\"v\": 23}, {\"v\": 1.7993405494535817}]}, {\"c\": [{\"v\": 24}, {\"v\": 1.8512583487190752}]}, {\"c\": [{\"v\": 25}, {\"v\": 1.8920946026904804}]}, {\"c\": [{\"v\": 26}, {\"v\": 1.9242792860618816}]}, {\"c\": [{\"v\": 27}, {\"v\": 1.9590413923210936}]}, {\"c\": [{\"v\": 28}, {\"v\": 1.9912260756924949}]}, {\"c\": [{\"v\": 29}, {\"v\": 2.0043213737826426}]}, {\"c\": [{\"v\": 30}, {\"v\": 2.0211892990699383}]}, {\"c\": [{\"v\": 31}, {\"v\": 2.037426497940624}]}, {\"c\": [{\"v\": 32}, {\"v\": 2.0569048513364727}]}, {\"c\": [{\"v\": 33}, {\"v\": 2.0791812460476247}]}, {\"c\": [{\"v\": 34}, {\"v\": 2.0863598306747484}]}, {\"c\": [{\"v\": 35}, {\"v\": 2.100370545117563}]}, {\"c\": [{\"v\": 36}, {\"v\": 2.1367205671564067}]}, {\"c\": [{\"v\": 37}, {\"v\": 2.167317334748176}]}, {\"c\": [{\"v\": 38}, {\"v\": 2.184691430817599}]}, {\"c\": [{\"v\": 39}, {\"v\": 2.1931245983544616}]}, {\"c\": [{\"v\": 40}, {\"v\": 2.2095150145426308}]}, {\"c\": [{\"v\": 41}, {\"v\": 2.2380461031287955}]}, {\"c\": [{\"v\": 42}, {\"v\": 2.2695129442179165}]}, {\"c\": [{\"v\": 43}, {\"v\": 2.305351369446624}]}, {\"c\": [{\"v\": 44}, {\"v\": 2.3443922736851106}]}, {\"c\": [{\"v\": 45}, {\"v\": 2.3891660843645326}]}, {\"c\": [{\"v\": 46}, {\"v\": 2.4533183400470375}]}, {\"c\": [{\"v\": 47}, {\"v\": 2.5289167002776547}]}, {\"c\": [{\"v\": 48}, {\"v\": 2.621176281775035}]}, {\"c\": [{\"v\": 49}, {\"v\": 2.788875115775417}]}, {\"c\": [{\"v\": 50}, {\"v\": 3.702947246181556}]}, {\"c\": [{\"v\": 51}, {\"v\": 7.130363299515732}]}], \"cols\": [{\"type\": \"number\", \"label\": \"percentile\", \"id\": \"percentile\"}, {\"type\": \"number\", \"label\": \"time\", \"id\": \"time\"}]},\n",
       "              {},\n",
       "              {\"fields\": \"percentile,time\", \"name\": 0, \"source_index\": 0},\n",
       "              0,\n",
       "              51);\n",
       "          }\n",
       "        );\n",
       "    </script>\n",
       "  "
      ],
      "text/plain": [
       "<IPython.core.display.HTML object>"
      ]
     },
     "execution_count": 14,
     "metadata": {},
     "output_type": "execute_result"
    },
    {
     "data": {
      "image/png": "[encoded data removed]"
     },
     "metadata": {
      "source_id": "1_150687865022"
     },
     "output_type": "display_data"
    }
   ],
   "source": [
    "%chart columns --data data --fields percentile,time"
   ]
  }
 ],
 "metadata": {
  "kernelspec": {
   "display_name": "Python 3",
   "language": "python",
   "name": "python3"
  },
  "language_info": {
   "codemirror_mode": {
    "name": "ipython",
    "version": 3
   },
   "file_extension": ".py",
   "mimetype": "text/x-python",
   "name": "python",
   "nbconvert_exporter": "python",
   "pygments_lexer": "ipython3",
   "version": "3.6.1"
  },
  "latex_envs": {
   "LaTeX_envs_menu_present": true,
   "autocomplete": true,
   "bibliofile": "biblio.bib",
   "cite_by": "apalike",
   "current_citInitial": 1,
   "eqLabelWithNumbers": true,
   "eqNumInitial": 1,
   "hotkeys": {
    "equation": "Ctrl-E",
    "itemize": "Ctrl-I"
   },
   "labels_anchors": false,
   "latex_user_defs": false,
   "report_style_numbering": false,
   "user_envs_cfg": false
  },
  "varInspector": {
   "cols": {
    "lenName": 16,
    "lenType": 16,
    "lenVar": 40
   },
   "kernels_config": {
    "python": {
     "delete_cmd_postfix": "",
     "delete_cmd_prefix": "del ",
     "library": "var_list.py",
     "varRefreshCmd": "print(var_dic_list())"
    },
    "r": {
     "delete_cmd_postfix": ") ",
     "delete_cmd_prefix": "rm(",
     "library": "var_list.r",
     "varRefreshCmd": "cat(var_dic_list()) "
    }
   },
   "types_to_exclude": [
    "module",
    "function",
    "builtin_function_or_method",
    "instance",
    "_Feature"
   ],
   "window_display": false
  }
 },
 "nbformat": 4,
 "nbformat_minor": 2
}
