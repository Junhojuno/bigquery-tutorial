{
 "cells": [
  {
   "cell_type": "markdown",
   "metadata": {
    "ExecuteTime": {
     "end_time": "2017-10-01T16:24:04.169504Z",
     "start_time": "2017-10-01T16:24:04.007147Z"
    }
   },
   "source": [
    "# 01. Connect Python(Jupyter)\n",
    "- [gcloud sdk install](https://cloud.google.com/sdk/downloads)을 따라서 설치해주세요! 그 후 아래와 같이 진행해주세요\n",
    "~~~\n",
    "(터미널에서)\n",
    "pip3 install gcloud\n",
    "gcloud auth login\n",
    "~~~\n",
    "- 그 후, GOOGLE_APPLICATION_CREDENTIALS을 설정해줍니다\n",
    "- gcloud auth로 하는 방법, API 사용자 인증 정보 - service_key.json을 사용하는 방법 등이 있습니다\n"
   ]
  },
  {
   "cell_type": "code",
   "execution_count": 1,
   "metadata": {
    "ExecuteTime": {
     "end_time": "2017-10-02T13:59:11.787823Z",
     "start_time": "2017-10-02T13:59:11.704008Z"
    },
    "collapsed": true
   },
   "outputs": [],
   "source": [
    "from gcloud import bigquery as bq\n",
    "import uuid\n",
    "import os"
   ]
  },
  {
   "cell_type": "markdown",
   "metadata": {},
   "source": [
    "### gcloud auth로 진행한 경우"
   ]
  },
  {
   "cell_type": "code",
   "execution_count": 2,
   "metadata": {
    "ExecuteTime": {
     "end_time": "2017-10-02T13:59:12.782298Z",
     "start_time": "2017-10-02T13:59:12.778387Z"
    },
    "collapsed": true
   },
   "outputs": [],
   "source": [
    "clienct = bq.Client()"
   ]
  },
  {
   "cell_type": "markdown",
   "metadata": {},
   "source": [
    "### service_key.json을 사용하는 경우"
   ]
  },
  {
   "cell_type": "code",
   "execution_count": 4,
   "metadata": {
    "ExecuteTime": {
     "end_time": "2017-10-02T13:58:49.909510Z",
     "start_time": "2017-10-02T13:58:49.906772Z"
    },
    "collapsed": true
   },
   "outputs": [],
   "source": [
    "os.environ[\"GOOGLE_APPLICATION_CREDENTIALS\"] = \"/Path/to/service_key.json\""
   ]
  },
  {
   "cell_type": "code",
   "execution_count": 3,
   "metadata": {
    "ExecuteTime": {
     "end_time": "2017-10-02T13:59:15.439023Z",
     "start_time": "2017-10-02T13:59:15.435068Z"
    }
   },
   "outputs": [],
   "source": [
    "client = bq.Client()"
   ]
  },
  {
   "cell_type": "code",
   "execution_count": null,
   "metadata": {
    "ExecuteTime": {
     "end_time": "2017-10-01T16:45:35.077232Z",
     "start_time": "2017-10-01T16:45:35.075075Z"
    },
    "collapsed": true
   },
   "outputs": [],
   "source": [
    "# client의 project명 print\n",
    "print(client.project) "
   ]
  },
  {
   "cell_type": "code",
   "execution_count": 4,
   "metadata": {
    "ExecuteTime": {
     "end_time": "2017-10-02T13:59:19.294633Z",
     "start_time": "2017-10-02T13:59:19.291834Z"
    },
    "collapsed": true
   },
   "outputs": [],
   "source": [
    "# dataset 설정\n",
    "dataset = client.dataset(\"bigquery-public-data:samples\")"
   ]
  },
  {
   "cell_type": "markdown",
   "metadata": {},
   "source": [
    "## async_query"
   ]
  },
  {
   "cell_type": "code",
   "execution_count": 5,
   "metadata": {
    "ExecuteTime": {
     "end_time": "2017-10-02T13:59:20.285711Z",
     "start_time": "2017-10-02T13:59:20.282361Z"
    }
   },
   "outputs": [],
   "source": [
    "query_job = client.run_async_query(str(uuid.uuid4()), \"\"\"\n",
    "        #standardSQL\n",
    "        SELECT corpus AS title, COUNT(*) AS unique_words\n",
    "        FROM `publicdata.samples.shakespeare`\n",
    "        GROUP BY title\n",
    "        ORDER BY unique_words DESC\n",
    "        LIMIT 10\"\"\")"
   ]
  },
  {
   "cell_type": "code",
   "execution_count": 8,
   "metadata": {
    "ExecuteTime": {
     "end_time": "2017-10-01T17:01:12.540936Z",
     "start_time": "2017-10-01T17:01:11.355966Z"
    },
    "collapsed": true
   },
   "outputs": [],
   "source": [
    "# query 실행\n",
    "query_job.begin()"
   ]
  },
  {
   "cell_type": "code",
   "execution_count": 9,
   "metadata": {
    "ExecuteTime": {
     "end_time": "2017-10-01T17:01:16.440664Z",
     "start_time": "2017-10-01T17:01:15.060130Z"
    }
   },
   "outputs": [
    {
     "name": "stdout",
     "output_type": "stream",
     "text": [
      "[('hamlet', 5318), ('kinghenryv', 5104), ('cymbeline', 4875), ('troilusandcressida', 4795), ('kinglear', 4784), ('kingrichardiii', 4713), ('2kinghenryvi', 4683), ('coriolanus', 4653), ('2kinghenryiv', 4605), ('antonyandcleopatra', 4582)]\n",
      "10\n",
      "None\n"
     ]
    }
   ],
   "source": [
    "destination_table = query_job.destination\n",
    "destination_table.reload()\n",
    "for row in destination_table.fetch_data():\n",
    "    print(row)"
   ]
  },
  {
   "cell_type": "markdown",
   "metadata": {},
   "source": [
    "## sync_query"
   ]
  },
  {
   "cell_type": "code",
   "execution_count": 10,
   "metadata": {
    "ExecuteTime": {
     "end_time": "2017-10-01T17:01:39.780748Z",
     "start_time": "2017-10-01T17:01:39.778103Z"
    },
    "collapsed": true
   },
   "outputs": [],
   "source": [
    "query_string = '''\n",
    "        #standardSQL\n",
    "        SELECT corpus AS title, COUNT(*) AS unique_words\n",
    "        FROM `publicdata.samples.shakespeare`\n",
    "        GROUP BY title\n",
    "        ORDER BY unique_words DESC\n",
    "        LIMIT 10\n",
    "        '''"
   ]
  },
  {
   "cell_type": "code",
   "execution_count": 11,
   "metadata": {
    "ExecuteTime": {
     "end_time": "2017-10-01T17:01:40.396545Z",
     "start_time": "2017-10-01T17:01:40.393604Z"
    },
    "collapsed": true
   },
   "outputs": [],
   "source": [
    "query = client.run_sync_query(query_string)\n",
    "query.timeout_ms = 5 * 60 * 1000"
   ]
  },
  {
   "cell_type": "code",
   "execution_count": 12,
   "metadata": {
    "ExecuteTime": {
     "end_time": "2017-10-01T17:01:42.831685Z",
     "start_time": "2017-10-01T17:01:41.260657Z"
    },
    "collapsed": true
   },
   "outputs": [],
   "source": [
    "query.run()"
   ]
  },
  {
   "cell_type": "code",
   "execution_count": 13,
   "metadata": {
    "ExecuteTime": {
     "end_time": "2017-10-01T17:01:47.116168Z",
     "start_time": "2017-10-01T17:01:46.660469Z"
    },
    "collapsed": true
   },
   "outputs": [],
   "source": [
    "data = query.fetch_data()[0]"
   ]
  },
  {
   "cell_type": "code",
   "execution_count": 14,
   "metadata": {
    "ExecuteTime": {
     "end_time": "2017-10-01T17:01:48.394993Z",
     "start_time": "2017-10-01T17:01:48.382762Z"
    }
   },
   "outputs": [
    {
     "data": {
      "text/plain": [
       "[('hamlet', 5318),\n",
       " ('kinghenryv', 5104),\n",
       " ('cymbeline', 4875),\n",
       " ('troilusandcressida', 4795),\n",
       " ('kinglear', 4784),\n",
       " ('kingrichardiii', 4713),\n",
       " ('2kinghenryvi', 4683),\n",
       " ('coriolanus', 4653),\n",
       " ('2kinghenryiv', 4605),\n",
       " ('antonyandcleopatra', 4582)]"
      ]
     },
     "execution_count": 14,
     "metadata": {},
     "output_type": "execute_result"
    }
   ],
   "source": [
    "data"
   ]
  }
 ],
 "metadata": {
  "kernelspec": {
   "display_name": "Python 3",
   "language": "python",
   "name": "python3"
  },
  "latex_envs": {
   "LaTeX_envs_menu_present": true,
   "autocomplete": true,
   "bibliofile": "biblio.bib",
   "cite_by": "apalike",
   "current_citInitial": 1,
   "eqLabelWithNumbers": true,
   "eqNumInitial": 1,
   "hotkeys": {
    "equation": "Ctrl-E",
    "itemize": "Ctrl-I"
   },
   "labels_anchors": false,
   "latex_user_defs": false,
   "report_style_numbering": false,
   "user_envs_cfg": false
  },
  "varInspector": {
   "cols": {
    "lenName": 16,
    "lenType": 16,
    "lenVar": 40
   },
   "kernels_config": {
    "python": {
     "delete_cmd_postfix": "",
     "delete_cmd_prefix": "del ",
     "library": "var_list.py",
     "varRefreshCmd": "print(var_dic_list())"
    },
    "r": {
     "delete_cmd_postfix": ") ",
     "delete_cmd_prefix": "rm(",
     "library": "var_list.r",
     "varRefreshCmd": "cat(var_dic_list()) "
    }
   },
   "types_to_exclude": [
    "module",
    "function",
    "builtin_function_or_method",
    "instance",
    "_Feature"
   ],
   "window_display": false
  }
 },
 "nbformat": 4,
 "nbformat_minor": 2
}
