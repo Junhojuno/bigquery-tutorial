{
 "cells": [
  {
   "cell_type": "markdown",
   "metadata": {},
   "source": [
    "# 05. Install Chrome Extension(BQ Mate, Streak BigQuery Developer Tools)\n",
    "- 본 문서에서 알려드릴 내용은 Chrome Extension과 관련된 내용입니다!\n",
    "- BigQuery를 사용하면 다 좋은데, 제가 날리는 쿼리의 비용이 얼마일지 궁금할 때가 있습니다\n",
    "- 이것을 해결해주는 크롬 확장 프로그램이 바로 [BQ Mate](https://chrome.google.com/webstore/detail/bigquery-mate/nepgdloeceldecnoaaegljlichnfognh)입니다! \n",
    "- 또한 설치한 것은 [Streak BigQuery Developer Tools](https://chrome.google.com/webstore/detail/streak-bigquery-developer/lfmljmpmipdibdhbmmaadmhpaldcihgd)입니다! 이 친구는 센트 단위로 Cost를 보여줘서.. 설치했습니다\n",
    "- 2개 중 1개만 설치해도 무방합니다"
   ]
  },
  {
   "cell_type": "markdown",
   "metadata": {},
   "source": [
    "### BQ Mate와 Streak BigQuery Developer Tools를 설치한 화면\n",
    "<img src=\"../images/014_install_chrome_extension_01.png\" width=\"700\" height=\"700\">"
   ]
  },
  {
   "cell_type": "markdown",
   "metadata": {},
   "source": [
    "- 네모친 부분에 The cost will be around ~ 이 부분이 예상 금액입니다!"
   ]
  },
  {
   "cell_type": "markdown",
   "metadata": {
    "ExecuteTime": {
     "end_time": "2017-10-04T15:34:19.142624Z",
     "start_time": "2017-10-04T15:34:19.138784Z"
    }
   },
   "source": [
    "<img src=\"../images/014_install_chrome_extension_02.png\" width=\"700\" height=\"700\">"
   ]
  },
  {
   "cell_type": "markdown",
   "metadata": {},
   "source": [
    "- BQ Mate의 큰 장점 중 하나는 별도의 설정이 존재하는 것\n",
    "- 여기서 Find/Replace를 할 수 있고, Separator 설정도 할 수 있습니다! \n",
    "- 또한 default인 legacySQL에서 standardSQL로 변경할 수 있습니다\n",
    "- 단순한 기능이지만 도움이 되길 :)"
   ]
  },
  {
   "cell_type": "markdown",
   "metadata": {},
   "source": [
    "# BQ Mate 설명글\n",
    "- 현재 작동하지 않는 기능도 있습니다\n",
    "---\n",
    "BigQuery Mate\n",
    "Companion tool for BigQuery UI used by myself and my peers at Viant Inc. \n",
    "(Vindico, Specific Media, Myspace, Xumo). It adds some functionality \n",
    "to BigQuery Native UI that is found helpful in day on day activity.\n",
    "BigQuery Mate Features: (see Help for details)\n",
    "1.  Control Nav Panel size - retired on Jan.31, 2016\n",
    "2.  Hide/Show Datasets Panel\n",
    "3.  Datasets Filtering\n",
    "4.  Datasets Count (Filtered/Total)\n",
    "5.  Monetary Cost estimation based on processed bytes\n",
    "6.  Keywords Auto-Capitalization\n",
    "7.  Comment/Uncomment Selection or Outside Selection\n",
    "8.  Support for Parametrized Query / Saved Query with Parameters\n",
    "9.  Tables Decoration / Manipulation\n",
    "10. Find / Replace Functionality (with support for regular expressions)\n",
    "11. Tabs Auto naming after query name (saved query, new query)\n",
    "12. Navigator: list of all BQ sessions across your PC \n",
    "    with quick info and ability to jump toSome Useful Links:\n",
    "New BigQuery Session\n",
    "Query Reference (Legacy SQL)\n",
    "Query Reference (Standard SQL)\n",
    "Google Cloud Status\n",
    "Ask on Stack Overflow\n",
    "BigQuery Mate on Trello\n",
    "13. Query Outline\n",
    "14. Extended Result Panel\n",
    "15. F5 to execute query + Ctrl-F5 to run selection \n",
    "16. Interactive Pivots / Charts of Query Result  \n",
    "17. Search / Filter Recent Queries\n",
    "18. Tables Filtering\n",
    "19. Add All Fields to Query Editor, with or w/o alias \n",
    "20. Thousands separator for numeric fields \n",
    "21. Contextual Help via F1 or Right-Click Menu \n",
    "22. SQL Version Quick Switch (Click on SQL button or Alt-L) Recent! \n",
    "23. Save Default SQL Version (Double CLick on SQL button or Shift-Alt-L) Recent!\n",
    "24. Support for BigQuery Named Paramaters (@param). New!\n",
    "    Magnus style parameters still supported (<var_param>)\n",
    "25. Keyboard Shortcuts to view previous/next page - Ctrl-ArrowLeft, Ctrl-ArrowRight\n",
    "    and first/last page - Ctrl-ArrowDown, Ctrl-ArrowUp\n",
    "Warning: Google Team is constantly working on improving their BigQuery UI. Sometimes this breaks\n",
    "features of the Tool. When this is a case, please calm down, stay tuned and check periorically \n",
    "for extension updates. I am trying to fix issues as soon as they are introduced and I see them!"
   ]
  }
 ],
 "metadata": {
  "kernelspec": {
   "display_name": "Python 3",
   "language": "python",
   "name": "python3"
  },
  "language_info": {
   "codemirror_mode": {
    "name": "ipython",
    "version": 3
   },
   "file_extension": ".py",
   "mimetype": "text/x-python",
   "name": "python",
   "nbconvert_exporter": "python",
   "pygments_lexer": "ipython3",
   "version": "3.6.1"
  },
  "latex_envs": {
   "LaTeX_envs_menu_present": true,
   "autocomplete": true,
   "bibliofile": "biblio.bib",
   "cite_by": "apalike",
   "current_citInitial": 1,
   "eqLabelWithNumbers": true,
   "eqNumInitial": 1,
   "hotkeys": {
    "equation": "Ctrl-E",
    "itemize": "Ctrl-I"
   },
   "labels_anchors": false,
   "latex_user_defs": false,
   "report_style_numbering": false,
   "user_envs_cfg": false
  },
  "varInspector": {
   "cols": {
    "lenName": 16,
    "lenType": 16,
    "lenVar": 40
   },
   "kernels_config": {
    "python": {
     "delete_cmd_postfix": "",
     "delete_cmd_prefix": "del ",
     "library": "var_list.py",
     "varRefreshCmd": "print(var_dic_list())"
    },
    "r": {
     "delete_cmd_postfix": ") ",
     "delete_cmd_prefix": "rm(",
     "library": "var_list.r",
     "varRefreshCmd": "cat(var_dic_list()) "
    }
   },
   "types_to_exclude": [
    "module",
    "function",
    "builtin_function_or_method",
    "instance",
    "_Feature"
   ],
   "window_display": false
  }
 },
 "nbformat": 4,
 "nbformat_minor": 2
}
