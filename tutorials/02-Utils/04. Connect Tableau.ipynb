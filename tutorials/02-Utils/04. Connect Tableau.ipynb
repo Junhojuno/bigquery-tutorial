{
 "cells": [
  {
   "cell_type": "markdown",
   "metadata": {},
   "source": [
    "# 04. Connect Tableau\n",
    "- Tableau는 BI(Business Intelligence) Tool로 정말 쉽고 강력한 기능을 가지고 있습니다\n",
    "- [Tableau Homepage](https://www.tableau.com/ko-kr)\n",
    "- Tableau Desktop, Tableau Server, Tableau Online 3개의 제품군이 있으며 Desktop에서 대시보드를 생성한 후, Tableau Online을 통해 공유할 수 있습니다!\n",
    "- 설치의 경우 홈페이지에서 파일을 다운받으면 끝이고, 결제 관련 문의는 Tableau측으로 문의바랍니다\n",
    "- 만약 학생이시면 [Tableau Students](https://www.tableau.com/ko-kr/academic/students)를 통해 Desktop을 무료로 사용할 수 있습니다\n",
    "- 우선 Tableau를 설치하신 후 실행해주세요!"
   ]
  },
  {
   "cell_type": "markdown",
   "metadata": {},
   "source": [
    "<img src=\"../images/009_tableau_01.png\" width=\"700\" height=\"700\">\n",
    "- 실행한 후, BigQuery를 클릭해주세요\n",
    "- 클릭하면 ID와 Password를 입력한 후 권한에 대해 승인합니다"
   ]
  },
  {
   "cell_type": "markdown",
   "metadata": {},
   "source": [
    "<img src=\"../images/009_tableau_02.png\" width=\"700\" height=\"700\">"
   ]
  },
  {
   "cell_type": "markdown",
   "metadata": {},
   "source": [
    "- 청구 프로젝트는 비용이 어떤 프로젝트에 청구되는지 선택하는 곳이고\n",
    "- 프로젝트는 BigQuery의 프로젝트를 의미합니다"
   ]
  },
  {
   "cell_type": "markdown",
   "metadata": {},
   "source": [
    "<img src=\"../images/009_tableau_03.png\" width=\"700\" height=\"700\">"
   ]
  },
  {
   "cell_type": "markdown",
   "metadata": {},
   "source": [
    "- 우선, 공개 데이터의 shakespeare 데이터를 가지고 오겠습니다\n",
    "- 좌측 하단에 레거시 SQL 사용을 Check하면 Tableau에서 Legacy SQL 문법을 사용할 수 있습니다! 체크를 하지 않으면 Standard SQL 문법을 사용합니다\n",
    "- 우측에 연결을 '라이브'로 할지 '추출'로 할지 설정 가능합니다. '라이브'는 데이터양이 많아지면 속도가 느려지고, 추출을 빠르지만 데이터가 계속 추가되면 추출을 반복해서 진행해야 합니다( Tableau에서 자동으로 가능합니다 )\n",
    "<img src=\"../images/009_tableau_04.png\" width=\"700\" height=\"700\">"
   ]
  },
  {
   "cell_type": "markdown",
   "metadata": {},
   "source": [
    "- shakespeare 데이터에서 word_count의 sum이 상위 100개만 뽑은 후 만든 워드 클라우드입니다 ( 약 20초 걸렸습니다 )\n",
    "<img src=\"../images/009_tableau_05.png\" width=\"700\" height=\"700\">"
   ]
  },
  {
   "cell_type": "markdown",
   "metadata": {},
   "source": [
    "- 이 그래프는 github repository 공개 데이터에서 created_at 데이터를 가지고 public 문서 개수를 count한 그래프입니다\n",
    "- 여기서 관심있게 볼 것은! repository_created_at 데이터는 2011-11-07 21:56:41 이런 형태로 가지고 있는데, 이 데이터를 날짜 데이터로 지정해주면 알아서 연도와 월, 분기, 일 등으로 인식해줍니다\n",
    "<img src=\"../images/009_tableau_06.png\" width=\"700\" height=\"700\">"
   ]
  },
  {
   "cell_type": "markdown",
   "metadata": {},
   "source": [
    "- 위와 동일한 데이터를 월 기준으로 바꾼 그래프\n",
    "- Tableau의 강력하고 편리한 기능을 BigQuery와 함께할 때 시너지를 본다고 생각해서 간단히 설명드렸습니다! 여유가 되신다면 BigQuery + Tableau 조합 추천드리고 싶습니다!"
   ]
  }
 ],
 "metadata": {
  "kernelspec": {
   "display_name": "Python 3",
   "language": "python",
   "name": "python3"
  },
  "language_info": {
   "codemirror_mode": {
    "name": "ipython",
    "version": 3
   },
   "file_extension": ".py",
   "mimetype": "text/x-python",
   "name": "python",
   "nbconvert_exporter": "python",
   "pygments_lexer": "ipython3",
   "version": "3.6.1"
  },
  "latex_envs": {
   "LaTeX_envs_menu_present": true,
   "autocomplete": true,
   "bibliofile": "biblio.bib",
   "cite_by": "apalike",
   "current_citInitial": 1,
   "eqLabelWithNumbers": true,
   "eqNumInitial": 1,
   "hotkeys": {
    "equation": "Ctrl-E",
    "itemize": "Ctrl-I"
   },
   "labels_anchors": false,
   "latex_user_defs": false,
   "report_style_numbering": false,
   "user_envs_cfg": false
  },
  "varInspector": {
   "cols": {
    "lenName": 16,
    "lenType": 16,
    "lenVar": 40
   },
   "kernels_config": {
    "python": {
     "delete_cmd_postfix": "",
     "delete_cmd_prefix": "del ",
     "library": "var_list.py",
     "varRefreshCmd": "print(var_dic_list())"
    },
    "r": {
     "delete_cmd_postfix": ") ",
     "delete_cmd_prefix": "rm(",
     "library": "var_list.r",
     "varRefreshCmd": "cat(var_dic_list()) "
    }
   },
   "types_to_exclude": [
    "module",
    "function",
    "builtin_function_or_method",
    "instance",
    "_Feature"
   ],
   "window_display": false
  }
 },
 "nbformat": 4,
 "nbformat_minor": 2
}
