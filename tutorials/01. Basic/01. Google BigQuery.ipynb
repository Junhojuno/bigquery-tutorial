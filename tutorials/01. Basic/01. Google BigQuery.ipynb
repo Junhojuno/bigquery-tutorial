{
 "cells": [
  {
   "cell_type": "markdown",
   "metadata": {},
   "source": [
    "# bigquery-tutorial/tutorials/basic/01. Google BigQuery"
   ]
  },
  {
   "cell_type": "markdown",
   "metadata": {},
   "source": [
    "##  BigQuery란?\n",
    "- Google에서 드레멜 엔진을 사용해 만든 페타 바이트 규모의 저비용 데이터 웨어하우스입니다\n",
    "- 구글에서 관리해주기 때문에! 저희는 별도의 서버나 물리적 하드웨어를 관리할 필요가 없습니다 ( SaaS )\n",
    "- 일반적인 rdb나 noSQL보다 속도가 월등히 빠르며, 몇초 안에 TB를 스캔할 수 있습니다. Google Cloud Storage에서 데이터를 읽어 분석할 수 있습니다\n",
    "- 데이터 저장 및 컴퓨팅의 개념을 분리해 독립적으로 비용을 지불할 수 있습니다\n",
    "- 웹 UI 혹은 Command Line tool을 사용해 BigQuery를 이용할 수 있으며 Rest API와 클라이언트 라이브러리가 준비되어 있습니다 ( python, java, c#, go, node.js, php, ruby )\n",
    "###  \n",
    "- **Firebase 와 연동해서 사용할 경우 100000% 정말 좋습니다! ( 모든 데이터가 누락없이 쌓이는데, 신경쓸 필요가 없어요! )**\n",
    "- Legacy SQL과 Standard SQL 2가지 방식으로 쿼리를 날릴 수 있습니다 ( 세부 문법이 살짝 달라요 )\n",
    "- key, index가 따로 존재하지 않고 Full Scan을 합니다\n",
    "- Select할 때, Column base로 비용을 부과합니다\n",
    "###  \n",
    "- Third Party 도구들과 호환됩니다 ( Tableau, Google Analytics 360 suite )\n"
   ]
  },
  {
   "cell_type": "markdown",
   "metadata": {},
   "source": [
    "## BigQuery 비용\n",
    "- BigQuery는 저장 비용과( Storage ) 쿼리 비용 ( Query )이 따로 부과됩니다\n",
    "\n",
    "| 구분 | 비용 | 설명 | \n",
    "| :---: | :---: | :---: | \n",
    "| Storage | 0.02$ per 1GB | 매월 첫 10GB는 무료 | \n",
    "| Long Term Storage | 0.01$ per 1GB | 90일간 Edit이 없는 경우(append, overwrite, streaming 같은 행위) Storage의 비용의 1/2 | \n",
    "| Queries | 5$ per 1TB | 매월 첫 1TB는 무료이며, 정액 요금제([Flat-rate Pricing](https://cloud.google.com/bigquery/pricing#flat_rate_pricing))도 존재 |\n",
    "| Streaming Inserts | 0.05$ per 1GB |  streamed data일 경우 비용 부과 |\n",
    "| Loading data | 무료 | Data load 비용 무료 |\n",
    "| Copying data | 무료 | \tTable Copy 비용 무료 ( 그러나 저장 비용은 부과 ) |\n",
    "| Exporting data | 무료 | Data Export 비용 무료 (to gcp) |"
   ]
  },
  {
   "cell_type": "markdown",
   "metadata": {},
   "source": [
    "## BigQuery 시작\n",
    "0. Google Cloud 회원 가입\n",
    "1. [Google 로그인](https://accounts.google.com/Login)\n",
    "2. [Project 생성 및 선택](https://console.cloud.google.com/project?_ga=1.105140352.267165872.1487136809)\n",
    "\n",
    "    단, 처음에 체험판 등록하면 300$ 제공합니다\n",
    "\n",
    "3. [BigQuery API 등록](https://console.cloud.google.com/flows/enableapi?apiid=bigquery&_ga=1.139222832.267165872.1487136809)\n"
   ]
  },
  {
   "cell_type": "markdown",
   "metadata": {},
   "source": [
    "# BigQuery UI console\n",
    "![BigQuery_UI](../images/001_bigquery_ui_console.png)\n",
    "- 위 화면은 [BigQuery](https://bigquery.cloud.google.com/)에 처음 진입하면 나오는 화면입니다\n",
    "- 개인적으로 디자인은 정말 아무것도 없어 보입니다(..)\n",
    "- 'COMPOSE QUERY'를 누르면 쿼리를 날릴 수 있는 화면이 보입니다!\n"
   ]
  },
  {
   "cell_type": "markdown",
   "metadata": {},
   "source": [
    "![BigQuery_UI](../images/002_bigquery_ui_console.png)"
   ]
  },
  {
   "cell_type": "markdown",
   "metadata": {},
   "source": [
    "### 1) Navigation bar\n",
    "- COMPOSE QUERY : 이 버튼을 누르면 쿼리를 날릴 수 있는 창이 나타납니다! (우측과 같은 Query Editor가 생겨요)\n",
    "- Query History : 조회했던 쿼리가 기록이 나타납니다. 무한정으로 쿼리 History를 볼 수 있는것은 아니에요!\n",
    "- Job History : Job 작업의 기록이 나타납니다. Job은 load data, export data(table), copy data(table)\n",
    "- My Project라고 써있는 곳은 'Project' 부분입니다! 현재 저는 4개의 Dataset이 존재합니다\n",
    "- Public Datasets : BigQuery에서 사용할 수 있는 무료 Datasets입니다! 연습하기에 정말 좋은 자료들입니다\n",
    "\n",
    "### 2) Query Editor\n",
    "- New Query라고 써있는 곳은 쿼리의 이름을 나타냅니다. 그 아래의 흰 공간에서 Query를 입력할 수 있습니다\n",
    "- 우측의 UDF Editor는 java script로 사용자 정의 함수( User Define Function )를 만들 수 있습니다\n",
    "- Run Query : 쿼리를 실행하는 버튼으로 단축키는 command(ctrl) + Enter입니다\n",
    "- Save View : 쿼리 결과(View)를 저장하는 버튼으로 legacy SQL을 사용할 경우 가능합니다(개인적으론 Save View보단 다른 table로 저장하는 것을 선호해요)\n",
    "- Format Query : 형식에 맞게 자동으로 수정해줍니다\n",
    "- Show Options : 다양한 옵션 설정이 가능합니다. 예를 들어 쿼리 결과를 Table로 저장하는 것, 거대한 Result도 허락하는 것, Query Cashing 유무, Legacy / Standard SQL 선택 등이 가능합니다\n",
    "\n",
    "### 3) Querys list\n",
    "- 이 부분은 Query history를 누를 경우 생깁니다. History가 나오고 Filter로 검색해볼 수 있습니다\n",
    "- Datasets의 Table을 클릭할 경우, 이 부분은 Table에 대한 정보가 나타납니다\n",
    "- Run Query를 실행한 경우 쿼리 결과가 나타납니다"
   ]
  },
  {
   "cell_type": "markdown",
   "metadata": {},
   "source": [
    "## Keyboard shortcuts\n",
    "| Windows/Linux | Mac | Action | \n",
    "| :---: | :---: | :---: | \n",
    "| Ctrl + Enter | Cmd + Enter | 현재 Query를 실행 | \n",
    "| Tab | Tab | 자동 완성기능 |\n",
    "| Ctrl | Cmd | Table 이름을 Highlight |\n",
    "| Ctrl + / | Cmd + / | 현재 줄 주석처리 |\n",
    "| Ctrl + Shift + F | Cmd + Shift + F | Query Format 맞추기 |"
   ]
  }
 ],
 "metadata": {
  "anaconda-cloud": {},
  "kernelspec": {
   "display_name": "Python 3",
   "language": "python",
   "name": "python3"
  },
  "language_info": {
   "codemirror_mode": {
    "name": "ipython",
    "version": 3
   },
   "file_extension": ".py",
   "mimetype": "text/x-python",
   "name": "python",
   "nbconvert_exporter": "python",
   "pygments_lexer": "ipython3",
   "version": "3.6.1"
  },
  "latex_envs": {
   "LaTeX_envs_menu_present": true,
   "autocomplete": true,
   "bibliofile": "biblio.bib",
   "cite_by": "apalike",
   "current_citInitial": 1,
   "eqLabelWithNumbers": true,
   "eqNumInitial": 1,
   "hotkeys": {
    "equation": "Ctrl-E",
    "itemize": "Ctrl-I"
   },
   "labels_anchors": false,
   "latex_user_defs": false,
   "report_style_numbering": false,
   "user_envs_cfg": false
  },
  "varInspector": {
   "cols": {
    "lenName": 16,
    "lenType": 16,
    "lenVar": 40
   },
   "kernels_config": {
    "python": {
     "delete_cmd_postfix": "",
     "delete_cmd_prefix": "del ",
     "library": "var_list.py",
     "varRefreshCmd": "print(var_dic_list())"
    },
    "r": {
     "delete_cmd_postfix": ") ",
     "delete_cmd_prefix": "rm(",
     "library": "var_list.r",
     "varRefreshCmd": "cat(var_dic_list()) "
    }
   },
   "types_to_exclude": [
    "module",
    "function",
    "builtin_function_or_method",
    "instance",
    "_Feature"
   ],
   "window_display": false
  }
 },
 "nbformat": 4,
 "nbformat_minor": 1
}
