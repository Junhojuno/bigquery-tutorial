{
 "cells": [
  {
   "cell_type": "markdown",
   "metadata": {},
   "source": [
    "# 03. Run Query\n",
    "- 라이브러리를 활용해 Query날리는 법이 아닌 BigQuery Console에서 진행해보겠습니다!\n",
    "- Public Datasets를 활용해 6가지 쿼리문을 작성해보겠습니다\n",
    "\n",
    "## usa_names\n",
    "- 우선 BigQuery Console에서 좌측의 Public Datasets 아래에 bigquery-public-data :usa_names을 클릭한 후, use_1910_current를 클릭해주세요\n",
    "- 그 후, Details, Schema,Preview를 보겠습니다"
   ]
  },
  {
   "cell_type": "markdown",
   "metadata": {},
   "source": [
    "## Details\n",
    "<img src =\"../images/005_run_query_usa_01.png\" width=\"700\" height=\"700\">\n",
    "\n",
    "## Schema\n",
    "<img src =\"../images/005_run_query_usa_03.png\" width=\"500\" height=\"700\">\n",
    "\n",
    "## Preview\n",
    "<img src =\"../images/005_run_query_usa_02.png\" width=\"500\" height=\"700\">"
   ]
  },
  {
   "cell_type": "markdown",
   "metadata": {},
   "source": [
    "- 이 테이블은 해당연도에 특정 주에서 특정 성별을 가진 특정 이름의 수를 저장한 테이블입니다\n",
    "- 총 5개의 Column(state, gender, year, name, number)"
   ]
  },
  {
   "cell_type": "markdown",
   "metadata": {
    "ExecuteTime": {
     "end_time": "2017-10-01T11:52:36.759808Z",
     "start_time": "2017-10-01T11:52:36.753879Z"
    }
   },
   "source": [
    "### Q1) 가장 많은 state, year별 태어난 사람의 수( 쿼리를 직접 짜보세요! 일부러 빈칸을 넣었어요)\n",
    "<img src = \"../images/005_blank.png\" width=\"500\">\n",
    "\n",
    "<img src = \"../images/005_blank.png\" width=\"500\">"
   ]
  },
  {
   "cell_type": "markdown",
   "metadata": {},
   "source": [
    "~~~\n",
    "#standardSQL\n",
    "SELECT state, year, sum(number) as number\n",
    "FROM `bigquery-public-data.usa_names.usa_1910_current` \n",
    "group by state, year\n",
    "order by number desc\n",
    "~~~\n",
    "\n",
    "<img src =\"../images/005_run_query_usa_04.png\" width=\"700\" height=\"700\">"
   ]
  },
  {
   "cell_type": "markdown",
   "metadata": {},
   "source": [
    "### Q2) ( 연도 상관없이 ) 가장 많이 태어난 이름은?\n",
    "<img src = \"../images/005_blank.png\" width=\"500\">\n",
    "\n",
    "<img src = \"../images/005_blank.png\" width=\"500\">"
   ]
  },
  {
   "cell_type": "markdown",
   "metadata": {},
   "source": [
    "~~~\n",
    "#standardSQL\n",
    "SELECT name, sum(number) as number\n",
    "FROM `bigquery-public-data.usa_names.usa_1910_current` \n",
    "group by name\n",
    "order by number desc\n",
    "~~~\n",
    "\n",
    "<img src =\"../images/005_run_query_usa_05.png\" width=\"700\" height=\"700\">"
   ]
  },
  {
   "cell_type": "markdown",
   "metadata": {},
   "source": [
    "### Q3) 가장 많이 태어난 이름은 James 그렇다면 연도별 James의 Count를 구하는 Query\n",
    "<img src = \"../images/005_blank.png\" width=\"500\">\n",
    "\n",
    "<img src = \"../images/005_blank.png\" width=\"500\">"
   ]
  },
  {
   "cell_type": "markdown",
   "metadata": {},
   "source": [
    "~~~\n",
    "#standardSQL\n",
    "SELECT name, year, sum(number) as number\n",
    "FROM `bigquery-public-data.usa_names.usa_1910_current` \n",
    "where name = 'James'\n",
    "group by name, year\n",
    "order by number desc\n",
    "\n",
    "\n",
    "~~~\n",
    "<img src =\"../images/005_run_query_usa_06.png\" width=\"700\" height=\"700\">"
   ]
  },
  {
   "cell_type": "markdown",
   "metadata": {},
   "source": [
    "## nyc-tlc:green data\n",
    "- 우선 BigQuery Console에서 좌측의 Public Datasets 아래에 nyc-tlc:green을 클릭한 후, trips_2014를 클릭해주세요\n",
    "- 그 후, Details, Schema, Preview를 보겠습니다"
   ]
  },
  {
   "cell_type": "markdown",
   "metadata": {},
   "source": [
    "## Details\n",
    "<img src =\"../images/005_run_query_nyc_tlc_02.png\" width=\"500\" height=\"700\">\n",
    "## Schema\n",
    "<img src =\"../images/005_run_query_nyc_tlc_01.png\" width=\"500\" height=\"700\">\n",
    "## Preview\n",
    "<img src =\"../images/005_run_query_nyc_tlc_03.png\" width=\"800\" height=\"700\">\n"
   ]
  },
  {
   "cell_type": "markdown",
   "metadata": {},
   "source": [
    "- 이 테이블은 2014년 뉴욕의 green taxi에 대한 기록입니다\n",
    "- 총 21개의 Column"
   ]
  },
  {
   "cell_type": "markdown",
   "metadata": {},
   "source": [
    "### Q4) 2014년에 고객수(passenger_count)별 탑승 횟수를 구하는 쿼리를 짜보세요\n",
    "<img src = \"../images/005_blank.png\" width=\"500\">\n",
    "\n",
    "<img src = \"../images/005_blank.png\" width=\"500\">"
   ]
  },
  {
   "cell_type": "markdown",
   "metadata": {},
   "source": [
    "~~~\n",
    "#standardSQL\n",
    "SELECT passenger_count, count(passenger_count) as number\n",
    "FROM `nyc-tlc.green.trips_2014` \n",
    "group by passenger_count\n",
    "order by number desc\n",
    "~~~\n"
   ]
  },
  {
   "cell_type": "markdown",
   "metadata": {},
   "source": [
    "<img src =\"../images/005_run_query_nyc_tlc_04.png\" width=\"500\" height=\"700\">\n",
    "![test](../images/005_run_query_nyc_tlc_04.png)"
   ]
  },
  {
   "cell_type": "markdown",
   "metadata": {
    "ExecuteTime": {
     "end_time": "2017-10-01T12:43:37.716974Z",
     "start_time": "2017-10-01T12:43:37.707087Z"
    }
   },
   "source": [
    "### Q5) 2015년 Table도 동일 dataset에 있는데, 2015년도 데이터도 포함해서 고객수별(passenger_count)탑승 횟수를 구하는 쿼리를 짜보세요\n",
    "<img src = \"../images/005_blank.png\" width=\"500\">\n",
    "\n",
    "<img src = \"../images/005_blank.png\" width=\"500\">"
   ]
  },
  {
   "cell_type": "markdown",
   "metadata": {},
   "source": [
    "~~~\n",
    "#standardSQL\n",
    "SELECT passenger_count, count(passenger_count) as number\n",
    "FROM `nyc-tlc.green.trips_*`\n",
    "where _table_suffix between '2014' and '2015'\n",
    "group by passenger_count\n",
    "order by number desc\n",
    "~~~\n",
    "<img src =\"../images/005_run_query_nyc_tlc_05.png\" width=\"500\" height=\"700\">"
   ]
  },
  {
   "cell_type": "markdown",
   "metadata": {},
   "source": [
    "- _table_suffix를 활용해 Table의 기간을 설정할 수 있습니다"
   ]
  },
  {
   "cell_type": "markdown",
   "metadata": {},
   "source": [
    "### Q6) 위에서 사용한 Table에서 연도별(pickup_datetime 기준) 운행 횟수(pickup_datetime)을 구하는 쿼리를 짜보세요\n",
    "<img src = \"../images/005_blank.png\" width=\"500\">\n",
    "\n",
    "<img src = \"../images/005_blank.png\" width=\"500\">"
   ]
  },
  {
   "cell_type": "markdown",
   "metadata": {},
   "source": [
    "~~~\n",
    "#standardSQL\n",
    "SELECT EXTRACT(YEAR FROM pickup_datetime) as year, count(pickup_datetime) as total\n",
    "FROM `nyc-tlc.green.trips_*`\n",
    "where _table_suffix between '2014' and '2015'\n",
    "group by year\n",
    "order by total desc\n",
    "~~~\n",
    "<img src =\"../images/005_run_query_nyc_tlc_06.png\" width=\"500\" height=\"700\">"
   ]
  },
  {
   "cell_type": "markdown",
   "metadata": {},
   "source": [
    "- EXTRACT 함수를 사용하면 timestamp에 있는 데이터를 추출할 수 있습니다!"
   ]
  },
  {
   "cell_type": "markdown",
   "metadata": {},
   "source": [
    "### 이번 쿼리는 시간이 꽤 걸렸을거에요. 여기서 Explanation을 눌러볼까요?\n",
    "\n",
    "<img src =\"../images/005_run_query_nyc_tlc_07.png\" width=\"600\" height=\"700\">\n",
    "- 여기에선 BigQuery의 쿼리 단계가 나타나요. Average Time, Max Time이 표시되고, 어떤 부분에서 연산 시간이 오래 걸렸는지 알려줍니다!\n",
    "- 또한 Error가 날 경우엔, Error가 어디서 나타났는지 알려줍니다"
   ]
  },
  {
   "cell_type": "markdown",
   "metadata": {},
   "source": [
    "####  몇가지만 간단히 추가했는데, 추후에 계속 쿼리에 대해 추가하겠습니다 ( Window 함수, Join, With문 등등..)"
   ]
  }
 ],
 "metadata": {
  "kernelspec": {
   "display_name": "Python 3",
   "language": "python",
   "name": "python3"
  },
  "language_info": {
   "codemirror_mode": {
    "name": "ipython",
    "version": 3
   },
   "file_extension": ".py",
   "mimetype": "text/x-python",
   "name": "python",
   "nbconvert_exporter": "python",
   "pygments_lexer": "ipython3",
   "version": "3.6.1"
  },
  "latex_envs": {
   "LaTeX_envs_menu_present": true,
   "autocomplete": true,
   "bibliofile": "biblio.bib",
   "cite_by": "apalike",
   "current_citInitial": 1,
   "eqLabelWithNumbers": true,
   "eqNumInitial": 1,
   "hotkeys": {
    "equation": "Ctrl-E",
    "itemize": "Ctrl-I"
   },
   "labels_anchors": false,
   "latex_user_defs": false,
   "report_style_numbering": false,
   "user_envs_cfg": false
  },
  "varInspector": {
   "cols": {
    "lenName": 16,
    "lenType": 16,
    "lenVar": 40
   },
   "kernels_config": {
    "python": {
     "delete_cmd_postfix": "",
     "delete_cmd_prefix": "del ",
     "library": "var_list.py",
     "varRefreshCmd": "print(var_dic_list())"
    },
    "r": {
     "delete_cmd_postfix": ") ",
     "delete_cmd_prefix": "rm(",
     "library": "var_list.r",
     "varRefreshCmd": "cat(var_dic_list()) "
    }
   },
   "types_to_exclude": [
    "module",
    "function",
    "builtin_function_or_method",
    "instance",
    "_Feature"
   ],
   "window_display": false
  }
 },
 "nbformat": 4,
 "nbformat_minor": 2
}
