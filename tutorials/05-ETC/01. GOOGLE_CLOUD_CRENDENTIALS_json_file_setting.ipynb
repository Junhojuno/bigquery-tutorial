{
 "cells": [
  {
   "cell_type": "markdown",
   "metadata": {},
   "source": [
    "# 01. GOOGLE CLOUD CRENDENTIALS json file setting\n",
    "- 본 문서에서는 Google Cloud API에서 사용할 json file을 다운받는 방법을 알려드리겠습니다\n",
    "\n",
    "\n",
    "## 1) [Google Cloud Console](https://console.cloud.google.com/)로 이동해주세요\n",
    "\n",
    "<img src=\"../images/011_json_setting_01.png\" width=\"700\" height=\"700\">"
   ]
  },
  {
   "cell_type": "markdown",
   "metadata": {},
   "source": [
    "- 메뉴 버튼을 누른 후, API 및 서비스 - 사용자 인증 정보를 클릭해주세요!\n",
    "<img src=\"../images/011_json_setting_02.png\" width=\"700\" height=\"700\">"
   ]
  },
  {
   "cell_type": "markdown",
   "metadata": {},
   "source": [
    "- 사용자 인증 정보 만들기를 클릭한 후, '서비스 계정 키'를 입력해주세요\n",
    "<img src=\"../images/011_json_setting_03.png\" width=\"700\" height=\"700\">"
   ]
  },
  {
   "cell_type": "markdown",
   "metadata": {},
   "source": [
    "- 서비스 계정 이름을 입력하고 역할을 선택해주세요! 필요한 API와 관련된 설정을 해주시면 됩니다\n",
    "- 그 후 생성을 클릭해서 json file을 다운받아주세요!\n",
    "\n",
    "- mac / 우분투라면 아래와 같은 명령어를 입력해주세요 ( path는 다운받은 주소를 넣어주시면 됩니다! )\n",
    "~~~\n",
    "export GOOGLE_APPLICATION_CREDENTIALS=/path/to/json/file.json\n",
    "~~~\n",
    "\n",
    "- 해당 설정을 완료하면 자유롭게 Google Cloud를 사용할 수 있습니다!\n",
    "- 혹시 권한 설정을 못하셨다면 아래와 같이 IAM 및 관리자를 클릭해주세요!"
   ]
  },
  {
   "cell_type": "markdown",
   "metadata": {
    "ExecuteTime": {
     "end_time": "2017-10-03T04:32:36.685706Z",
     "start_time": "2017-10-03T04:32:36.681873Z"
    }
   },
   "source": [
    "<img src=\"../images/011_json_setting_04.png\" width=\"700\" height=\"700\">"
   ]
  },
  {
   "cell_type": "markdown",
   "metadata": {},
   "source": [
    "- IAM / 역할에서 계정에 대한 설정을 할 수 있습니다!"
   ]
  }
 ],
 "metadata": {
  "kernelspec": {
   "display_name": "Python 3",
   "language": "python",
   "name": "python3"
  },
  "language_info": {
   "codemirror_mode": {
    "name": "ipython",
    "version": 3
   },
   "file_extension": ".py",
   "mimetype": "text/x-python",
   "name": "python",
   "nbconvert_exporter": "python",
   "pygments_lexer": "ipython3",
   "version": "3.6.1"
  },
  "latex_envs": {
   "LaTeX_envs_menu_present": true,
   "autocomplete": true,
   "bibliofile": "biblio.bib",
   "cite_by": "apalike",
   "current_citInitial": 1,
   "eqLabelWithNumbers": true,
   "eqNumInitial": 1,
   "hotkeys": {
    "equation": "Ctrl-E",
    "itemize": "Ctrl-I"
   },
   "labels_anchors": false,
   "latex_user_defs": false,
   "report_style_numbering": false,
   "user_envs_cfg": false
  },
  "varInspector": {
   "cols": {
    "lenName": 16,
    "lenType": 16,
    "lenVar": 40
   },
   "kernels_config": {
    "python": {
     "delete_cmd_postfix": "",
     "delete_cmd_prefix": "del ",
     "library": "var_list.py",
     "varRefreshCmd": "print(var_dic_list())"
    },
    "r": {
     "delete_cmd_postfix": ") ",
     "delete_cmd_prefix": "rm(",
     "library": "var_list.r",
     "varRefreshCmd": "cat(var_dic_list()) "
    }
   },
   "types_to_exclude": [
    "module",
    "function",
    "builtin_function_or_method",
    "instance",
    "_Feature"
   ],
   "window_display": false
  }
 },
 "nbformat": 4,
 "nbformat_minor": 2
}
