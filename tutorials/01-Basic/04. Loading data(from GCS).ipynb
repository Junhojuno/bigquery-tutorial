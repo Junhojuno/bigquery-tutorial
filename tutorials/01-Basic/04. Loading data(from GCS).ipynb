{
 "cells": [
  {
   "cell_type": "markdown",
   "metadata": {},
   "source": [
    "# 04. Loading data(from GCS)\n",
    "- 이번 문서에서는 Google Cloud Storage에서 Data를 BigQuery로 Load하는 방법을 소개드리겠습니다\n",
    "- [Kaggle 경진대회](https://www.kaggle.com/) 데이터를 BigQuery에 넣고 활용해보겠습니다"
   ]
  },
  {
   "cell_type": "markdown",
   "metadata": {},
   "source": [
    "<img src=\"../images/006_load_data_01.png\" width=\"600\" height=\"700\">"
   ]
  },
  {
   "cell_type": "markdown",
   "metadata": {},
   "source": [
    "- 위 사진은 Kaggle이란 사이트에서 진행하고 있는 경진대회입니다!\n",
    "- Web Traffic 대회 데이터를 넣어보겠습니다!"
   ]
  },
  {
   "cell_type": "markdown",
   "metadata": {},
   "source": [
    "<img src=\"../images/006_load_data_02.png\" width=\"600\" height=\"700\">"
   ]
  },
  {
   "cell_type": "markdown",
   "metadata": {},
   "source": [
    "- 위키피디아의 데이터네요. 유사한 데이터가 BigQuery Public Data에 존재합니다!\n",
    "- Data를 다운로드한 후, BigQuery Console로 이동해주세요-!"
   ]
  },
  {
   "cell_type": "markdown",
   "metadata": {
    "ExecuteTime": {
     "end_time": "2017-10-01T14:42:34.029081Z",
     "start_time": "2017-10-01T14:42:34.018937Z"
    }
   },
   "source": [
    "<img src=\"../images/006_load_data_03.png\" width=\"600\" height=\"700\">"
   ]
  },
  {
   "cell_type": "markdown",
   "metadata": {},
   "source": [
    "- My project라고 써있는 곳 우측의 삼각형 버튼을 클릭해주세요!"
   ]
  },
  {
   "cell_type": "markdown",
   "metadata": {},
   "source": [
    "<img src=\"../images/006_load_data_04.png\" width=\"600\" height=\"700\">"
   ]
  },
  {
   "cell_type": "markdown",
   "metadata": {
    "collapsed": true
   },
   "source": [
    "- Create new dataset 클릭해주세요-! \n",
    "<img src=\"../images/006_load_data_05.png\" width=\"600\" height=\"700\">"
   ]
  },
  {
   "cell_type": "markdown",
   "metadata": {},
   "source": [
    "- Dataset ID(이름)와 Data location, expiration을 설정해주세요! (저는 ID만 지정했습니다)\n",
    "- 생성된 후 Dataset에서 + 버튼을 눌러주세요\n",
    "<img src=\"../images/006_load_data_06.png\" width=\"600\" height=\"700\">"
   ]
  },
  {
   "cell_type": "markdown",
   "metadata": {},
   "source": [
    "- 그 다음 화면에서 File upload - Choose file을 통해 직전에 받은 파일을 클릭했더니 다음과 같은 오류가 발생했습니다\n",
    "- 10mb 미만만 직접 올릴 수 있고, 그보다 크다면 GCS를 이용하라고 합니다\n",
    "- 그렇다면! [구글 클라우드 콘솔](http://console.cloud.google.com/)로 이동해주세요\n",
    "- ( 참고로 Schema에서 Automatically detect를 체크하면 쉽게 Column을 찾아서 매칭해줍니다 )\n",
    "<img src=\"../images/006_load_data_07.png\" width=\"900\" height=\"700\">\n"
   ]
  },
  {
   "cell_type": "markdown",
   "metadata": {},
   "source": [
    "- 좌측에 있는 Storage를 클릭해주세요!\n",
    "<img src=\"../images/006_load_data_08.png\" width=\"900\" height=\"700\">"
   ]
  },
  {
   "cell_type": "markdown",
   "metadata": {},
   "source": [
    "- Storage가 이미 존재하는 경우엔 해당 버켓에 넣어도 되고, 존재하지 않는다면 '버킷 생성' 버튼을 눌러 새로운 버켓을 생성합니다\n",
    "<img src=\"../images/006_load_data_09.png\" width=\"400\" height=\"700\">"
   ]
  },
  {
   "cell_type": "markdown",
   "metadata": {},
   "source": [
    "- 그 이후 파일 업로드를 통해 다시 파일을 GCS로 업로드해주신 후, 해당 링크를 BigQuery로 연결하면 됩니다!"
   ]
  },
  {
   "cell_type": "markdown",
   "metadata": {},
   "source": [
    "# 요약\n",
    "- Data Load는 4가지 방법으로 할 수 있습니다\n",
    "    1. File Upload\n",
    "    2. Google Cloud Storage\n",
    "    3. Googld Drive\n",
    "    4. Google Cloud Bigtable\n",
    "- 1번 File Upload는 데이터의 용량이 10mb 미만일 경우 사용 가능합니다\n",
    "- 2번 Google Cloud Storage는 버켓에 데이터를 업로드한 후, Data load를 누르면 됩니다\n",
    "- 3번 Google Drive 연동은 정말 쉽습니다! Spread Sheet 연동시 사용\n",
    "- 4번 Google Cloud Bigtable을 사용하는 것은 초반에 간단히 진행하기 어렵기 때문에 본 문서에선 제외했습니다"
   ]
  },
  {
   "cell_type": "code",
   "execution_count": null,
   "metadata": {
    "collapsed": true
   },
   "outputs": [],
   "source": []
  }
 ],
 "metadata": {
  "kernelspec": {
   "display_name": "Python 3",
   "language": "python",
   "name": "python3"
  },
  "language_info": {
   "codemirror_mode": {
    "name": "ipython",
    "version": 3
   },
   "file_extension": ".py",
   "mimetype": "text/x-python",
   "name": "python",
   "nbconvert_exporter": "python",
   "pygments_lexer": "ipython3",
   "version": "3.6.1"
  },
  "latex_envs": {
   "LaTeX_envs_menu_present": true,
   "autocomplete": true,
   "bibliofile": "biblio.bib",
   "cite_by": "apalike",
   "current_citInitial": 1,
   "eqLabelWithNumbers": true,
   "eqNumInitial": 1,
   "hotkeys": {
    "equation": "Ctrl-E",
    "itemize": "Ctrl-I"
   },
   "labels_anchors": false,
   "latex_user_defs": false,
   "report_style_numbering": false,
   "user_envs_cfg": false
  },
  "varInspector": {
   "cols": {
    "lenName": 16,
    "lenType": 16,
    "lenVar": 40
   },
   "kernels_config": {
    "python": {
     "delete_cmd_postfix": "",
     "delete_cmd_prefix": "del ",
     "library": "var_list.py",
     "varRefreshCmd": "print(var_dic_list())"
    },
    "r": {
     "delete_cmd_postfix": ") ",
     "delete_cmd_prefix": "rm(",
     "library": "var_list.r",
     "varRefreshCmd": "cat(var_dic_list()) "
    }
   },
   "types_to_exclude": [
    "module",
    "function",
    "builtin_function_or_method",
    "instance",
    "_Feature"
   ],
   "window_display": false
  }
 },
 "nbformat": 4,
 "nbformat_minor": 2
}
